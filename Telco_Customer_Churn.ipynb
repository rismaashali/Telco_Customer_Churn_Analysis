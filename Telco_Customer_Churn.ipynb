{
 "cells": [
  {
   "cell_type": "markdown",
   "id": "aAAVKhcX4GNz",
   "metadata": {
    "id": "aAAVKhcX4GNz"
   },
   "source": [
    "# Use Case\n",
    "- Objective Statement:\n",
    "  - To get insight into what type gender who churn and no churn.\n",
    "  - To gain insight into senior citizens who churn and no churn.\n",
    "  - To gain insight into churn and no churn customers whether the customer has a partner or has dependents.\n",
    "  - To gain insight into churn and no churn customers based on how long the customer have tenure.\n",
    "  - To gain insight into churn and no churn customers based on how many customers use Internet Service, Online Security, Multiple Lines, Online Backup, Device Protection, Tech Support, Streaming TV, Movie Streaming, Payment Methods, and Paperless Billing facilities.\n",
    "  - To get insight about what type based on customer contract churn and no churn.\n",
    "  - To get insight about how long customers churn, monthly subscription fees, and the total cost they spend on services.\n",
    "  - To get insight about customer churn analysis.\n",
    "  - To create modeling with Machine Learning to predict customer churn.\n",
    "\n",
    "- Challenges:\n",
    "  - There are some variables containing many missing values\n",
    "  - There are some inappropriate data types\n",
    "  - There is multicolinerity on some variables\n",
    "\n",
    "- Methodology / Analytic Technique:\n",
    "  - Descriptive analysis\n",
    "  - Graph analysis\n",
    "  - Modelling using Logistic Regression\n",
    "  \n",
    "- Business Benefit:\n",
    "  - Helping Business Development Team to create product differentiation based on the characteristic for each customer.\n",
    "  - Know how to treat customers with spesific criteria, especially between churn customers and no churn customers.\n",
    "\n",
    "- Expected Outcome:\n",
    "  - Know how many customers based on gender type who churn and no churn.\n",
    "  - Know how many customers based on senior citizens who churn and no churn.\n",
    "  - Know how many customers based on churn and no churn customers whether the customer has a partner or has dependents.\n",
    "  - Know how many churn customers and no churn customers based on how long the customers have tenure.\n",
    "  - Know how many customers based on churn and no churn customers based on how many customers use Internet Service, Online Security, Multiple Lines, Online Backup, Device Protection, Tech Support, Streaming TV, Movie Streaming, Payment Methods, and Paperless Billing facilities.\n",
    "  - Know how many customers based on type customer contract churn and no churn.\n",
    "  - Know how long customers churn, monthly subscription fees, and the total cost they spend on services.\n",
    "  - Know customer churn analysis.\n",
    "  - Create modeling with Machine Learning to predict customers churn.\n",
    "  \n",
    "# Business Understanding\n",
    "- Data telco is a company engaged in telecommunication and internet services to make easier for consumers to communicate remotely and surf the internet more easily with offers several services such as time contracts, and various types of services.\n",
    "- This case has some business question using the data:\n",
    "  - How many customers based on gender type who churn and no churn?\n",
    "  - How many customers based on senior citizens who churn and no churn?\n",
    "  - How many customers based on churn and no churn customers whether the customer has a partner or has dependents?\n",
    "  - How many churn customers and no churn customers based on how long the customers have tenure?\n",
    "  - How many churn and no churn customers based on how many customers use Internet Service, Online Security, Multiple Lines, Online Backup, Device Protection, Tech Support, Streaming TV, Movie Streaming, Payment Methods, and Paperless Billing facilities?\n",
    "  - How many customers based on type customer contract churn and no churn?\n",
    "  - How long customers subscribe, monthly subscription fees, and the total cost they spend on services?\n",
    "  - How about customer churn analysis?\n",
    "  - How to create modeling with Machine Learning to predict customers churn?\n",
    "\n",
    "# Data Understanding\n",
    "- Data of Telecom Customer with 21 columns and 7043 rows\n",
    "- Source Code : https://www.kaggle.com/datasets/blastchar/telco-customer-churn\n",
    "\n",
    "- Data Dictionary :  \n",
    "  - customerId : Customer number uniquely assigned to each customer.\n",
    "  - gender : gender of customer\n",
    "  - SeniorCitizen : Whether the customer is a senior citizen or not (1, 0)\n",
    "  - partner : Whether the customer has a partner or not (Yes, No)\n",
    "  - Dependets : Whether the customer has dependents or not (Yes, No)\n",
    "  - tenure : Number of months the customer has stayed with the company\n",
    "  - PhoneService : Whether the customer has a phone service or not (Yes, No)\n",
    "  - MultipleLines : Whether the customer has multiple lines or not (Yes, No, No phone service)\n",
    "  - InternetService : Customer’s internet service provider (DSL, Fiber optic, No)\n",
    "  - OnlineSecurity : Whether the customer has online security or not (Yes, No, No internet service)\n",
    "  - OnlineBackup : Whether the customer has online backup or not (Yes, No, No internet service)\n",
    "  - DeviceProtection : Whether the customer has device protection or not (Yes, No, No internet service)\n",
    "  - TechSupport : Whether the customer has tech support or not (Yes, No, No internet service)\n",
    "  - StreamingTV : Whether the customer has streaming TV or not (Yes, No, No internet service)\n",
    "  - StreamingMovies : Whether the customer has streaming movies or not (Yes, No, No internet service)\n",
    "  - Contract : The contract term of the customer (Month-to-month, One year, Two year)\n",
    "  - PaperlessBilling : Whether the customer has paperless billing or not (Yes, No)\n",
    "  - PaymentMethod : The customer’s payment method (Electronic check, Mailed check, Bank transfer (automatic), Credit card (automatic))\n",
    "  - MonthlyCharges : The amount charged to the customer monthly\n",
    "  - TotalCharges : The total amount charged to the customer\n",
    "  - Churn : The customer churn status (1 - Yes, 0 - No) \n",
    "\n",
    "# Data Preparation\n",
    "- Code Used:\n",
    "  - Python Version: 3.7.15\n",
    "  - Packages: Pandas, Numpy, Matplotlib, Seaborn, Sklearn, and Warnings"
   ]
  },
  {
   "cell_type": "markdown",
   "id": "c01d646d",
   "metadata": {
    "id": "c01d646d"
   },
   "source": [
    "# Data Profiling"
   ]
  },
  {
   "cell_type": "code",
   "execution_count": 1,
   "id": "7f3b3e58",
   "metadata": {
    "id": "7f3b3e58"
   },
   "outputs": [],
   "source": [
    "import pandas as pd\n",
    "import numpy as np\n",
    "import matplotlib.pyplot as plt\n",
    "%matplotlib inline\n",
    "import seaborn as sns\n",
    "\n",
    "\n",
    "from sklearn.preprocessing import OrdinalEncoder\n",
    "from sklearn.preprocessing import OneHotEncoder\n",
    "from sklearn.preprocessing import StandardScaler\n",
    "\n",
    "from sklearn.model_selection import train_test_split\n",
    "from sklearn.ensemble import ExtraTreesClassifier\n",
    "\n",
    "from sklearn.linear_model import LogisticRegression\n",
    "from sklearn.metrics import confusion_matrix\n",
    "from sklearn.metrics import classification_report\n",
    "from sklearn.metrics import accuracy_score\n",
    "from sklearn.metrics import roc_auc_score, accuracy_score, precision_score, recall_score, confusion_matrix, roc_curve, auc, log_loss\n",
    "from imblearn.over_sampling import SMOTE\n",
    "\n",
    "from sklearn.model_selection import cross_val_score\n",
    "from sklearn.model_selection import KFold\n",
    "from sklearn.model_selection import RandomizedSearchCV\n",
    "from sklearn.model_selection import GridSearchCV\n",
    "\n",
    "\n",
    "from sklearn.metrics import mean_absolute_percentage_error\n",
    "\n",
    "import warnings\n",
    "warnings.filterwarnings('ignore')"
   ]
  },
  {
   "cell_type": "code",
   "execution_count": 225,
   "id": "84d547b9",
   "metadata": {
    "id": "84d547b9"
   },
   "outputs": [],
   "source": [
    "df = pd.read_csv('data_telco.csv')"
   ]
  },
  {
   "cell_type": "code",
   "execution_count": 226,
   "id": "63ee640f",
   "metadata": {
    "colab": {
     "base_uri": "https://localhost:8080/",
     "height": 386
    },
    "id": "63ee640f",
    "outputId": "3408a1a7-6ffc-41e7-f33a-d473cde46f49"
   },
   "outputs": [
    {
     "data": {
      "text/html": [
       "<div>\n",
       "<style scoped>\n",
       "    .dataframe tbody tr th:only-of-type {\n",
       "        vertical-align: middle;\n",
       "    }\n",
       "\n",
       "    .dataframe tbody tr th {\n",
       "        vertical-align: top;\n",
       "    }\n",
       "\n",
       "    .dataframe thead th {\n",
       "        text-align: right;\n",
       "    }\n",
       "</style>\n",
       "<table border=\"1\" class=\"dataframe\">\n",
       "  <thead>\n",
       "    <tr style=\"text-align: right;\">\n",
       "      <th></th>\n",
       "      <th>customerID</th>\n",
       "      <th>gender</th>\n",
       "      <th>SeniorCitizen</th>\n",
       "      <th>Partner</th>\n",
       "      <th>Dependents</th>\n",
       "      <th>tenure</th>\n",
       "      <th>PhoneService</th>\n",
       "      <th>MultipleLines</th>\n",
       "      <th>InternetService</th>\n",
       "      <th>OnlineSecurity</th>\n",
       "      <th>...</th>\n",
       "      <th>DeviceProtection</th>\n",
       "      <th>TechSupport</th>\n",
       "      <th>StreamingTV</th>\n",
       "      <th>StreamingMovies</th>\n",
       "      <th>Contract</th>\n",
       "      <th>PaperlessBilling</th>\n",
       "      <th>PaymentMethod</th>\n",
       "      <th>MonthlyCharges</th>\n",
       "      <th>TotalCharges</th>\n",
       "      <th>Churn</th>\n",
       "    </tr>\n",
       "  </thead>\n",
       "  <tbody>\n",
       "    <tr>\n",
       "      <th>0</th>\n",
       "      <td>7590-VHVEG</td>\n",
       "      <td>NaN</td>\n",
       "      <td>NaN</td>\n",
       "      <td>NaN</td>\n",
       "      <td>NaN</td>\n",
       "      <td>1</td>\n",
       "      <td>No</td>\n",
       "      <td>NaN</td>\n",
       "      <td>NaN</td>\n",
       "      <td>NaN</td>\n",
       "      <td>...</td>\n",
       "      <td>NaN</td>\n",
       "      <td>NaN</td>\n",
       "      <td>NaN</td>\n",
       "      <td>NaN</td>\n",
       "      <td>Month-to-month</td>\n",
       "      <td>Yes</td>\n",
       "      <td>Electronic check</td>\n",
       "      <td>29.85</td>\n",
       "      <td>29.85</td>\n",
       "      <td>No</td>\n",
       "    </tr>\n",
       "    <tr>\n",
       "      <th>1</th>\n",
       "      <td>5575-GNVDE</td>\n",
       "      <td>NaN</td>\n",
       "      <td>NaN</td>\n",
       "      <td>NaN</td>\n",
       "      <td>NaN</td>\n",
       "      <td>34</td>\n",
       "      <td>Yes</td>\n",
       "      <td>NaN</td>\n",
       "      <td>NaN</td>\n",
       "      <td>NaN</td>\n",
       "      <td>...</td>\n",
       "      <td>NaN</td>\n",
       "      <td>NaN</td>\n",
       "      <td>NaN</td>\n",
       "      <td>NaN</td>\n",
       "      <td>One year</td>\n",
       "      <td>No</td>\n",
       "      <td>Mailed check</td>\n",
       "      <td>56.95</td>\n",
       "      <td>1889.5</td>\n",
       "      <td>No</td>\n",
       "    </tr>\n",
       "    <tr>\n",
       "      <th>2</th>\n",
       "      <td>3668-QPYBK</td>\n",
       "      <td>NaN</td>\n",
       "      <td>NaN</td>\n",
       "      <td>NaN</td>\n",
       "      <td>NaN</td>\n",
       "      <td>2</td>\n",
       "      <td>Yes</td>\n",
       "      <td>NaN</td>\n",
       "      <td>NaN</td>\n",
       "      <td>NaN</td>\n",
       "      <td>...</td>\n",
       "      <td>NaN</td>\n",
       "      <td>NaN</td>\n",
       "      <td>NaN</td>\n",
       "      <td>NaN</td>\n",
       "      <td>Month-to-month</td>\n",
       "      <td>Yes</td>\n",
       "      <td>Mailed check</td>\n",
       "      <td>53.85</td>\n",
       "      <td>108.15</td>\n",
       "      <td>Yes</td>\n",
       "    </tr>\n",
       "    <tr>\n",
       "      <th>3</th>\n",
       "      <td>7795-CFOCW</td>\n",
       "      <td>NaN</td>\n",
       "      <td>NaN</td>\n",
       "      <td>NaN</td>\n",
       "      <td>NaN</td>\n",
       "      <td>45</td>\n",
       "      <td>No</td>\n",
       "      <td>NaN</td>\n",
       "      <td>NaN</td>\n",
       "      <td>NaN</td>\n",
       "      <td>...</td>\n",
       "      <td>NaN</td>\n",
       "      <td>NaN</td>\n",
       "      <td>NaN</td>\n",
       "      <td>NaN</td>\n",
       "      <td>One year</td>\n",
       "      <td>No</td>\n",
       "      <td>Bank transfer (automatic)</td>\n",
       "      <td>42.30</td>\n",
       "      <td>1840.75</td>\n",
       "      <td>No</td>\n",
       "    </tr>\n",
       "    <tr>\n",
       "      <th>4</th>\n",
       "      <td>9237-HQITU</td>\n",
       "      <td>NaN</td>\n",
       "      <td>NaN</td>\n",
       "      <td>NaN</td>\n",
       "      <td>NaN</td>\n",
       "      <td>2</td>\n",
       "      <td>Yes</td>\n",
       "      <td>NaN</td>\n",
       "      <td>NaN</td>\n",
       "      <td>NaN</td>\n",
       "      <td>...</td>\n",
       "      <td>NaN</td>\n",
       "      <td>NaN</td>\n",
       "      <td>NaN</td>\n",
       "      <td>NaN</td>\n",
       "      <td>Month-to-month</td>\n",
       "      <td>Yes</td>\n",
       "      <td>Electronic check</td>\n",
       "      <td>70.70</td>\n",
       "      <td>151.65</td>\n",
       "      <td>Yes</td>\n",
       "    </tr>\n",
       "  </tbody>\n",
       "</table>\n",
       "<p>5 rows × 21 columns</p>\n",
       "</div>"
      ],
      "text/plain": [
       "   customerID gender  SeniorCitizen Partner Dependents  tenure PhoneService  \\\n",
       "0  7590-VHVEG    NaN            NaN     NaN        NaN       1           No   \n",
       "1  5575-GNVDE    NaN            NaN     NaN        NaN      34          Yes   \n",
       "2  3668-QPYBK    NaN            NaN     NaN        NaN       2          Yes   \n",
       "3  7795-CFOCW    NaN            NaN     NaN        NaN      45           No   \n",
       "4  9237-HQITU    NaN            NaN     NaN        NaN       2          Yes   \n",
       "\n",
       "  MultipleLines InternetService OnlineSecurity  ... DeviceProtection  \\\n",
       "0           NaN             NaN            NaN  ...              NaN   \n",
       "1           NaN             NaN            NaN  ...              NaN   \n",
       "2           NaN             NaN            NaN  ...              NaN   \n",
       "3           NaN             NaN            NaN  ...              NaN   \n",
       "4           NaN             NaN            NaN  ...              NaN   \n",
       "\n",
       "  TechSupport StreamingTV StreamingMovies        Contract PaperlessBilling  \\\n",
       "0         NaN         NaN             NaN  Month-to-month              Yes   \n",
       "1         NaN         NaN             NaN        One year               No   \n",
       "2         NaN         NaN             NaN  Month-to-month              Yes   \n",
       "3         NaN         NaN             NaN        One year               No   \n",
       "4         NaN         NaN             NaN  Month-to-month              Yes   \n",
       "\n",
       "               PaymentMethod MonthlyCharges  TotalCharges Churn  \n",
       "0           Electronic check          29.85         29.85    No  \n",
       "1               Mailed check          56.95        1889.5    No  \n",
       "2               Mailed check          53.85        108.15   Yes  \n",
       "3  Bank transfer (automatic)          42.30       1840.75    No  \n",
       "4           Electronic check          70.70        151.65   Yes  \n",
       "\n",
       "[5 rows x 21 columns]"
      ]
     },
     "execution_count": 226,
     "metadata": {},
     "output_type": "execute_result"
    }
   ],
   "source": [
    "df.head()"
   ]
  },
  {
   "cell_type": "code",
   "execution_count": 227,
   "id": "1e63f09e",
   "metadata": {
    "colab": {
     "base_uri": "https://localhost:8080/"
    },
    "id": "1e63f09e",
    "outputId": "2d753841-d3b9-44e4-9244-5c083f4a3906"
   },
   "outputs": [
    {
     "name": "stdout",
     "output_type": "stream",
     "text": [
      "<class 'pandas.core.frame.DataFrame'>\n",
      "RangeIndex: 7043 entries, 0 to 7042\n",
      "Data columns (total 21 columns):\n",
      " #   Column            Non-Null Count  Dtype  \n",
      "---  ------            --------------  -----  \n",
      " 0   customerID        7043 non-null   object \n",
      " 1   gender            6034 non-null   object \n",
      " 2   SeniorCitizen     6034 non-null   float64\n",
      " 3   Partner           6034 non-null   object \n",
      " 4   Dependents        6034 non-null   object \n",
      " 5   tenure            7043 non-null   int64  \n",
      " 6   PhoneService      7043 non-null   object \n",
      " 7   MultipleLines     6034 non-null   object \n",
      " 8   InternetService   6034 non-null   object \n",
      " 9   OnlineSecurity    6034 non-null   object \n",
      " 10  OnlineBackup      6034 non-null   object \n",
      " 11  DeviceProtection  6034 non-null   object \n",
      " 12  TechSupport       6034 non-null   object \n",
      " 13  StreamingTV       6034 non-null   object \n",
      " 14  StreamingMovies   6034 non-null   object \n",
      " 15  Contract          7043 non-null   object \n",
      " 16  PaperlessBilling  7043 non-null   object \n",
      " 17  PaymentMethod     7043 non-null   object \n",
      " 18  MonthlyCharges    7043 non-null   float64\n",
      " 19  TotalCharges      7043 non-null   object \n",
      " 20  Churn             7043 non-null   object \n",
      "dtypes: float64(2), int64(1), object(18)\n",
      "memory usage: 1.1+ MB\n"
     ]
    }
   ],
   "source": [
    "df.info()"
   ]
  },
  {
   "cell_type": "code",
   "execution_count": 228,
   "id": "2adbe231",
   "metadata": {
    "colab": {
     "base_uri": "https://localhost:8080/"
    },
    "id": "2adbe231",
    "outputId": "af903855-c7a2-4c41-e8ef-bb789d566e73"
   },
   "outputs": [
    {
     "data": {
      "text/plain": [
       "customerID             0\n",
       "gender              1009\n",
       "SeniorCitizen       1009\n",
       "Partner             1009\n",
       "Dependents          1009\n",
       "tenure                 0\n",
       "PhoneService           0\n",
       "MultipleLines       1009\n",
       "InternetService     1009\n",
       "OnlineSecurity      1009\n",
       "OnlineBackup        1009\n",
       "DeviceProtection    1009\n",
       "TechSupport         1009\n",
       "StreamingTV         1009\n",
       "StreamingMovies     1009\n",
       "Contract               0\n",
       "PaperlessBilling       0\n",
       "PaymentMethod          0\n",
       "MonthlyCharges         0\n",
       "TotalCharges           0\n",
       "Churn                  0\n",
       "dtype: int64"
      ]
     },
     "execution_count": 228,
     "metadata": {},
     "output_type": "execute_result"
    }
   ],
   "source": [
    "df.isna().sum()"
   ]
  },
  {
   "cell_type": "markdown",
   "id": "b2035450",
   "metadata": {
    "id": "b2035450"
   },
   "source": [
    "# Data Cleansing"
   ]
  },
  {
   "cell_type": "code",
   "execution_count": 229,
   "id": "2dc9c123",
   "metadata": {
    "id": "2dc9c123"
   },
   "outputs": [],
   "source": [
    "# handling missing value"
   ]
  },
  {
   "cell_type": "code",
   "execution_count": 230,
   "id": "82cf7618",
   "metadata": {
    "colab": {
     "base_uri": "https://localhost:8080/"
    },
    "id": "82cf7618",
    "outputId": "0b53b6ad-02ce-46c7-f3c2-dd33b6530346"
   },
   "outputs": [
    {
     "data": {
      "text/plain": [
       "Fiber optic    2621\n",
       "DSL            2092\n",
       "No             1321\n",
       "unknown        1009\n",
       "Name: InternetService, dtype: int64"
      ]
     },
     "execution_count": 230,
     "metadata": {},
     "output_type": "execute_result"
    }
   ],
   "source": [
    "df['InternetService'] = df.InternetService.fillna(\"unknown\")\n",
    "df['InternetService'].value_counts()"
   ]
  },
  {
   "cell_type": "code",
   "execution_count": 231,
   "id": "5d6a9155",
   "metadata": {
    "colab": {
     "base_uri": "https://localhost:8080/"
    },
    "id": "5d6a9155",
    "outputId": "2cfb4963-9594-4917-b37c-c40873fb878e"
   },
   "outputs": [
    {
     "data": {
      "text/plain": [
       "Male       3041\n",
       "Female     2993\n",
       "unknown    1009\n",
       "Name: gender, dtype: int64"
      ]
     },
     "execution_count": 231,
     "metadata": {},
     "output_type": "execute_result"
    }
   ],
   "source": [
    "df['gender'] = df.gender.fillna(\"unknown\")\n",
    "df['gender'].value_counts()"
   ]
  },
  {
   "cell_type": "code",
   "execution_count": 232,
   "id": "0b9548dc",
   "metadata": {
    "colab": {
     "base_uri": "https://localhost:8080/"
    },
    "id": "0b9548dc",
    "outputId": "e472fb78-049a-4ae5-f797-82f3a961c94c"
   },
   "outputs": [
    {
     "data": {
      "text/plain": [
       "0.0        5057\n",
       "unknown    1009\n",
       "1.0         977\n",
       "Name: SeniorCitizen, dtype: int64"
      ]
     },
     "execution_count": 232,
     "metadata": {},
     "output_type": "execute_result"
    }
   ],
   "source": [
    "df['SeniorCitizen'] = df.SeniorCitizen.fillna(\"unknown\")\n",
    "df['SeniorCitizen'].value_counts()"
   ]
  },
  {
   "cell_type": "code",
   "execution_count": 233,
   "id": "3aa8563d",
   "metadata": {
    "colab": {
     "base_uri": "https://localhost:8080/"
    },
    "id": "3aa8563d",
    "outputId": "3ee73ba2-b459-47ef-f8ea-f73b0818bbd6"
   },
   "outputs": [
    {
     "data": {
      "text/plain": [
       "No         3111\n",
       "Yes        2923\n",
       "unknown    1009\n",
       "Name: Partner, dtype: int64"
      ]
     },
     "execution_count": 233,
     "metadata": {},
     "output_type": "execute_result"
    }
   ],
   "source": [
    "df['Partner'] = df.Partner.fillna(\"unknown\")\n",
    "df['Partner'].value_counts()"
   ]
  },
  {
   "cell_type": "code",
   "execution_count": 234,
   "id": "1d762055",
   "metadata": {
    "colab": {
     "base_uri": "https://localhost:8080/"
    },
    "id": "1d762055",
    "outputId": "eed933d3-86e8-4793-b7cf-e2f6a54643d1"
   },
   "outputs": [
    {
     "data": {
      "text/plain": [
       "No         4238\n",
       "Yes        1796\n",
       "unknown    1009\n",
       "Name: Dependents, dtype: int64"
      ]
     },
     "execution_count": 234,
     "metadata": {},
     "output_type": "execute_result"
    }
   ],
   "source": [
    "df['Dependents'] = df.Dependents.fillna(\"unknown\")\n",
    "df['Dependents'].value_counts()"
   ]
  },
  {
   "cell_type": "code",
   "execution_count": 235,
   "id": "e3734353",
   "metadata": {
    "colab": {
     "base_uri": "https://localhost:8080/"
    },
    "id": "e3734353",
    "outputId": "0b0573bf-89d3-4149-84c8-fdbcea5ebb78"
   },
   "outputs": [
    {
     "data": {
      "text/plain": [
       "No                  2908\n",
       "Yes                 2537\n",
       "unknown             1009\n",
       "No phone service     589\n",
       "Name: MultipleLines, dtype: int64"
      ]
     },
     "execution_count": 235,
     "metadata": {},
     "output_type": "execute_result"
    }
   ],
   "source": [
    "df['MultipleLines'] = df.MultipleLines.fillna(\"unknown\")\n",
    "df['MultipleLines'].value_counts()"
   ]
  },
  {
   "cell_type": "code",
   "execution_count": 236,
   "id": "980b6e4d",
   "metadata": {
    "colab": {
     "base_uri": "https://localhost:8080/"
    },
    "id": "980b6e4d",
    "outputId": "c554be41-c963-4f64-9117-38e5e433c02f"
   },
   "outputs": [
    {
     "data": {
      "text/plain": [
       "No                     2993\n",
       "Yes                    1720\n",
       "No internet service    1321\n",
       "unknown                1009\n",
       "Name: OnlineSecurity, dtype: int64"
      ]
     },
     "execution_count": 236,
     "metadata": {},
     "output_type": "execute_result"
    }
   ],
   "source": [
    "df['OnlineSecurity'] = df.OnlineSecurity.fillna(\"unknown\")\n",
    "df['OnlineSecurity'].value_counts()"
   ]
  },
  {
   "cell_type": "code",
   "execution_count": 237,
   "id": "8c3c6fc3",
   "metadata": {
    "colab": {
     "base_uri": "https://localhost:8080/"
    },
    "id": "8c3c6fc3",
    "outputId": "64b11d40-b099-44a0-bc84-7670a73f6ef0"
   },
   "outputs": [
    {
     "data": {
      "text/plain": [
       "No                     2643\n",
       "Yes                    2070\n",
       "No internet service    1321\n",
       "unknown                1009\n",
       "Name: OnlineBackup, dtype: int64"
      ]
     },
     "execution_count": 237,
     "metadata": {},
     "output_type": "execute_result"
    }
   ],
   "source": [
    "df['OnlineBackup'] = df.OnlineBackup.fillna(\"unknown\")\n",
    "df['OnlineBackup'].value_counts()"
   ]
  },
  {
   "cell_type": "code",
   "execution_count": 238,
   "id": "df8c7633",
   "metadata": {
    "colab": {
     "base_uri": "https://localhost:8080/"
    },
    "id": "df8c7633",
    "outputId": "e4854627-e6e2-4449-a9b3-cdcba4bde8f3"
   },
   "outputs": [
    {
     "data": {
      "text/plain": [
       "No                     2643\n",
       "Yes                    2070\n",
       "No internet service    1321\n",
       "unknown                1009\n",
       "Name: DeviceProtection, dtype: int64"
      ]
     },
     "execution_count": 238,
     "metadata": {},
     "output_type": "execute_result"
    }
   ],
   "source": [
    "df['DeviceProtection'] = df.DeviceProtection.fillna(\"unknown\")\n",
    "df['DeviceProtection'].value_counts()"
   ]
  },
  {
   "cell_type": "code",
   "execution_count": 239,
   "id": "760bf44b",
   "metadata": {
    "colab": {
     "base_uri": "https://localhost:8080/"
    },
    "id": "760bf44b",
    "outputId": "5f9580b2-bdc3-44bb-e68c-1ca5479f257e"
   },
   "outputs": [
    {
     "data": {
      "text/plain": [
       "No                     2973\n",
       "Yes                    1740\n",
       "No internet service    1321\n",
       "unknown                1009\n",
       "Name: TechSupport, dtype: int64"
      ]
     },
     "execution_count": 239,
     "metadata": {},
     "output_type": "execute_result"
    }
   ],
   "source": [
    "df['TechSupport'] = df.TechSupport.fillna(\"unknown\")\n",
    "df['TechSupport'].value_counts()"
   ]
  },
  {
   "cell_type": "code",
   "execution_count": 240,
   "id": "0ebdfd2d",
   "metadata": {
    "colab": {
     "base_uri": "https://localhost:8080/"
    },
    "id": "0ebdfd2d",
    "outputId": "c55f9c77-dd54-4b19-9995-cb4e5f4c705a"
   },
   "outputs": [
    {
     "data": {
      "text/plain": [
       "No                     2403\n",
       "Yes                    2310\n",
       "No internet service    1321\n",
       "unknown                1009\n",
       "Name: StreamingTV, dtype: int64"
      ]
     },
     "execution_count": 240,
     "metadata": {},
     "output_type": "execute_result"
    }
   ],
   "source": [
    "df['StreamingTV'] = df.StreamingTV.fillna(\"unknown\")\n",
    "df['StreamingTV'].value_counts()"
   ]
  },
  {
   "cell_type": "code",
   "execution_count": 241,
   "id": "32b2d490",
   "metadata": {
    "colab": {
     "base_uri": "https://localhost:8080/"
    },
    "id": "32b2d490",
    "outputId": "ae8b0b46-b19a-4d68-a1dc-b03e31f18f02"
   },
   "outputs": [
    {
     "data": {
      "text/plain": [
       "No                     2394\n",
       "Yes                    2319\n",
       "No internet service    1321\n",
       "unknown                1009\n",
       "Name: StreamingMovies, dtype: int64"
      ]
     },
     "execution_count": 241,
     "metadata": {},
     "output_type": "execute_result"
    }
   ],
   "source": [
    "df['StreamingMovies'] = df.StreamingMovies.fillna(\"unknown\")\n",
    "df['StreamingMovies'].value_counts()"
   ]
  },
  {
   "cell_type": "code",
   "execution_count": 242,
   "id": "eeeb9b93",
   "metadata": {
    "id": "eeeb9b93"
   },
   "outputs": [],
   "source": [
    "# change data type"
   ]
  },
  {
   "cell_type": "code",
   "execution_count": 243,
   "id": "65dc708d",
   "metadata": {
    "id": "65dc708d"
   },
   "outputs": [],
   "source": [
    "df['TotalCharges'] = pd.to_numeric(df['TotalCharges'],errors=\"coerce\")"
   ]
  },
  {
   "cell_type": "code",
   "execution_count": 244,
   "id": "3728aeb5",
   "metadata": {
    "colab": {
     "base_uri": "https://localhost:8080/"
    },
    "id": "3728aeb5",
    "outputId": "f345beb7-a5d7-47d5-c910-ee9d0ffe040b"
   },
   "outputs": [
    {
     "data": {
      "text/plain": [
       "customerID           0\n",
       "gender               0\n",
       "SeniorCitizen        0\n",
       "Partner              0\n",
       "Dependents           0\n",
       "tenure               0\n",
       "PhoneService         0\n",
       "MultipleLines        0\n",
       "InternetService      0\n",
       "OnlineSecurity       0\n",
       "OnlineBackup         0\n",
       "DeviceProtection     0\n",
       "TechSupport          0\n",
       "StreamingTV          0\n",
       "StreamingMovies      0\n",
       "Contract             0\n",
       "PaperlessBilling     0\n",
       "PaymentMethod        0\n",
       "MonthlyCharges       0\n",
       "TotalCharges        11\n",
       "Churn                0\n",
       "dtype: int64"
      ]
     },
     "execution_count": 244,
     "metadata": {},
     "output_type": "execute_result"
    }
   ],
   "source": [
    "df.isna().sum()"
   ]
  },
  {
   "cell_type": "code",
   "execution_count": 245,
   "id": "b9bcf061",
   "metadata": {
    "colab": {
     "base_uri": "https://localhost:8080/",
     "height": 296
    },
    "id": "b9bcf061",
    "outputId": "b5138ba9-6c34-4987-dafd-b781870c2d95"
   },
   "outputs": [
    {
     "data": {
      "text/plain": [
       "<AxesSubplot:xlabel='TotalCharges', ylabel='Density'>"
      ]
     },
     "execution_count": 245,
     "metadata": {},
     "output_type": "execute_result"
    },
    {
     "data": {
      "image/png": "[encoded data removed]",
      "text/plain": [
       "<Figure size 432x288 with 1 Axes>"
      ]
     },
     "metadata": {
      "needs_background": "light"
     },
     "output_type": "display_data"
    }
   ],
   "source": [
    "sns.distplot(df['TotalCharges'])"
   ]
  },
  {
   "cell_type": "markdown",
   "id": "08e3d2cd",
   "metadata": {
    "id": "08e3d2cd"
   },
   "source": [
    "Because Total Charges tend to be possitive skewness, to fill in the missing value using the median"
   ]
  },
  {
   "cell_type": "code",
   "execution_count": 246,
   "id": "cb1443ae",
   "metadata": {
    "id": "cb1443ae"
   },
   "outputs": [],
   "source": [
    "val = df['TotalCharges'].median()\n",
    "df['TotalCharges'] = df['TotalCharges'].fillna(val)"
   ]
  },
  {
   "cell_type": "code",
   "execution_count": 247,
   "id": "8c81813a",
   "metadata": {
    "colab": {
     "base_uri": "https://localhost:8080/"
    },
    "id": "8c81813a",
    "outputId": "fc8e0594-ce1d-4760-b8b7-1da81e652424"
   },
   "outputs": [
    {
     "name": "stdout",
     "output_type": "stream",
     "text": [
      "<class 'pandas.core.frame.DataFrame'>\n",
      "RangeIndex: 7043 entries, 0 to 7042\n",
      "Data columns (total 21 columns):\n",
      " #   Column            Non-Null Count  Dtype  \n",
      "---  ------            --------------  -----  \n",
      " 0   customerID        7043 non-null   object \n",
      " 1   gender            7043 non-null   object \n",
      " 2   SeniorCitizen     7043 non-null   object \n",
      " 3   Partner           7043 non-null   object \n",
      " 4   Dependents        7043 non-null   object \n",
      " 5   tenure            7043 non-null   int64  \n",
      " 6   PhoneService      7043 non-null   object \n",
      " 7   MultipleLines     7043 non-null   object \n",
      " 8   InternetService   7043 non-null   object \n",
      " 9   OnlineSecurity    7043 non-null   object \n",
      " 10  OnlineBackup      7043 non-null   object \n",
      " 11  DeviceProtection  7043 non-null   object \n",
      " 12  TechSupport       7043 non-null   object \n",
      " 13  StreamingTV       7043 non-null   object \n",
      " 14  StreamingMovies   7043 non-null   object \n",
      " 15  Contract          7043 non-null   object \n",
      " 16  PaperlessBilling  7043 non-null   object \n",
      " 17  PaymentMethod     7043 non-null   object \n",
      " 18  MonthlyCharges    7043 non-null   float64\n",
      " 19  TotalCharges      7043 non-null   float64\n",
      " 20  Churn             7043 non-null   object \n",
      "dtypes: float64(2), int64(1), object(18)\n",
      "memory usage: 1.1+ MB\n"
     ]
    }
   ],
   "source": [
    "df.info()"
   ]
  },
  {
   "cell_type": "markdown",
   "id": "327d1008",
   "metadata": {
    "id": "327d1008"
   },
   "source": [
    "# Exploratory Data Analysis"
   ]
  },
  {
   "cell_type": "code",
   "execution_count": 248,
   "id": "912f3231",
   "metadata": {
    "id": "912f3231"
   },
   "outputs": [],
   "source": [
    "# Describe"
   ]
  },
  {
   "cell_type": "code",
   "execution_count": 249,
   "id": "3f63fabc",
   "metadata": {
    "colab": {
     "base_uri": "https://localhost:8080/",
     "height": 300
    },
    "id": "3f63fabc",
    "outputId": "105f98aa-ee0f-4203-9171-6315acdc9b3e"
   },
   "outputs": [
    {
     "data": {
      "text/html": [
       "<div>\n",
       "<style scoped>\n",
       "    .dataframe tbody tr th:only-of-type {\n",
       "        vertical-align: middle;\n",
       "    }\n",
       "\n",
       "    .dataframe tbody tr th {\n",
       "        vertical-align: top;\n",
       "    }\n",
       "\n",
       "    .dataframe thead th {\n",
       "        text-align: right;\n",
       "    }\n",
       "</style>\n",
       "<table border=\"1\" class=\"dataframe\">\n",
       "  <thead>\n",
       "    <tr style=\"text-align: right;\">\n",
       "      <th></th>\n",
       "      <th>tenure</th>\n",
       "      <th>MonthlyCharges</th>\n",
       "      <th>TotalCharges</th>\n",
       "    </tr>\n",
       "  </thead>\n",
       "  <tbody>\n",
       "    <tr>\n",
       "      <th>count</th>\n",
       "      <td>7043.000000</td>\n",
       "      <td>7043.000000</td>\n",
       "      <td>7043.000000</td>\n",
       "    </tr>\n",
       "    <tr>\n",
       "      <th>mean</th>\n",
       "      <td>32.371149</td>\n",
       "      <td>64.761692</td>\n",
       "      <td>2281.916928</td>\n",
       "    </tr>\n",
       "    <tr>\n",
       "      <th>std</th>\n",
       "      <td>24.559481</td>\n",
       "      <td>30.090047</td>\n",
       "      <td>2265.270398</td>\n",
       "    </tr>\n",
       "    <tr>\n",
       "      <th>min</th>\n",
       "      <td>0.000000</td>\n",
       "      <td>18.250000</td>\n",
       "      <td>18.800000</td>\n",
       "    </tr>\n",
       "    <tr>\n",
       "      <th>25%</th>\n",
       "      <td>9.000000</td>\n",
       "      <td>35.500000</td>\n",
       "      <td>402.225000</td>\n",
       "    </tr>\n",
       "    <tr>\n",
       "      <th>50%</th>\n",
       "      <td>29.000000</td>\n",
       "      <td>70.350000</td>\n",
       "      <td>1397.475000</td>\n",
       "    </tr>\n",
       "    <tr>\n",
       "      <th>75%</th>\n",
       "      <td>55.000000</td>\n",
       "      <td>89.850000</td>\n",
       "      <td>3786.600000</td>\n",
       "    </tr>\n",
       "    <tr>\n",
       "      <th>max</th>\n",
       "      <td>72.000000</td>\n",
       "      <td>118.750000</td>\n",
       "      <td>8684.800000</td>\n",
       "    </tr>\n",
       "  </tbody>\n",
       "</table>\n",
       "</div>"
      ],
      "text/plain": [
       "            tenure  MonthlyCharges  TotalCharges\n",
       "count  7043.000000     7043.000000   7043.000000\n",
       "mean     32.371149       64.761692   2281.916928\n",
       "std      24.559481       30.090047   2265.270398\n",
       "min       0.000000       18.250000     18.800000\n",
       "25%       9.000000       35.500000    402.225000\n",
       "50%      29.000000       70.350000   1397.475000\n",
       "75%      55.000000       89.850000   3786.600000\n",
       "max      72.000000      118.750000   8684.800000"
      ]
     },
     "execution_count": 249,
     "metadata": {},
     "output_type": "execute_result"
    }
   ],
   "source": [
    "df.describe()"
   ]
  },
  {
   "cell_type": "markdown",
   "id": "e58bf142",
   "metadata": {
    "id": "e58bf142"
   },
   "source": [
    "The average length of ownership of customer access is 32.3 with an average monthly charges of 64.8 and the average total charges is 2281.9"
   ]
  },
  {
   "cell_type": "code",
   "execution_count": 250,
   "id": "35629e4e",
   "metadata": {
    "colab": {
     "base_uri": "https://localhost:8080/"
    },
    "id": "35629e4e",
    "outputId": "c398d5c3-4d3f-4f09-daa7-3a048cdb1620"
   },
   "outputs": [
    {
     "data": {
      "text/plain": [
       "No     5174\n",
       "Yes    1869\n",
       "Name: Churn, dtype: int64"
      ]
     },
     "execution_count": 250,
     "metadata": {},
     "output_type": "execute_result"
    }
   ],
   "source": [
    "df['Churn'].value_counts()"
   ]
  },
  {
   "cell_type": "code",
   "execution_count": 251,
   "id": "73ab32a1",
   "metadata": {},
   "outputs": [
    {
     "data": {
      "image/png": "[encoded data removed]",
      "text/plain": [
       "<Figure size 432x288 with 1 Axes>"
      ]
     },
     "metadata": {},
     "output_type": "display_data"
    }
   ],
   "source": [
    "Type = df['Churn'].value_counts()\n",
    "Type.plot.pie(autopct='%.2f%%', shadow = True, colors = ('#CD5C5C', '#FFB6C1'), legend = True)\n",
    "plt.title('Pie Chart of Churn', fontsize = 15)\n",
    "plt.show()"
   ]
  },
  {
   "cell_type": "code",
   "execution_count": 252,
   "id": "0f3847c5",
   "metadata": {
    "colab": {
     "base_uri": "https://localhost:8080/",
     "height": 385
    },
    "id": "0f3847c5",
    "outputId": "7d0f2fd1-e15f-4a80-fef0-a8b388ea8b05"
   },
   "outputs": [
    {
     "data": {
      "image/png": "[encoded data removed]",
      "text/plain": [
       "<Figure size 360x360 with 1 Axes>"
      ]
     },
     "metadata": {
      "needs_background": "light"
     },
     "output_type": "display_data"
    }
   ],
   "source": [
    "sns.catplot(x=\"Churn\", kind=\"count\", data=df, palette='flare')\n",
    "plt.title('Churn and Not Churn');"
   ]
  },
  {
   "cell_type": "markdown",
   "id": "GRdNDx9iqjaX",
   "metadata": {
    "id": "GRdNDx9iqjaX"
   },
   "source": [
    "There are more customers who do not unsubscribe than those who unsubscribe. There are 5174 customers who did not unsubscribe and those who unsubscribed as many as 1869."
   ]
  },
  {
   "cell_type": "code",
   "execution_count": 253,
   "id": "6GsXxdk6to3q",
   "metadata": {
    "id": "6GsXxdk6to3q"
   },
   "outputs": [],
   "source": [
    "def make_pivot(param1, param2):     \n",
    "    df_slice = df[[param1, param2]]     \n",
    "    slice_pivot = df_slice.pivot_table(index=[param1], columns=[param2], \\\n",
    "                                       aggfunc=np.size,fill_value=0)     \n",
    "    return slice_pivot     "
   ]
  },
  {
   "cell_type": "code",
   "execution_count": 254,
   "id": "927c38db",
   "metadata": {
    "colab": {
     "base_uri": "https://localhost:8080/",
     "height": 456
    },
    "id": "927c38db",
    "outputId": "57bd5fe1-a179-4d91-fdeb-c2cda339224b"
   },
   "outputs": [
    {
     "name": "stdout",
     "output_type": "stream",
     "text": [
      "gender  Female  Male  unknown\n",
      "Churn                        \n",
      "No        4374  4478     1496\n",
      "Yes       1612  1604      522\n"
     ]
    },
    {
     "data": {
      "text/plain": [
       "<seaborn.axisgrid.FacetGrid at 0x2055ffa5df0>"
      ]
     },
     "execution_count": 254,
     "metadata": {},
     "output_type": "execute_result"
    },
    {
     "data": {
      "image/png": "[encoded data removed]",
      "text/plain": [
       "<Figure size 441.375x360 with 1 Axes>"
      ]
     },
     "metadata": {
      "needs_background": "light"
     },
     "output_type": "display_data"
    }
   ],
   "source": [
    "print(make_pivot('Churn','gender'))\n",
    "sns.catplot(x=\"Churn\", kind=\"count\", hue=\"gender\", data=df, palette='flare')"
   ]
  },
  {
   "cell_type": "markdown",
   "id": "3bc8a0f8",
   "metadata": {
    "id": "3bc8a0f8"
   },
   "source": [
    "- There are customers data of unknown gender\n",
    "- More male customers than female customers\n",
    "- More male customers who do not unsubscribe than those who unsubscribe\n",
    "- More female customers do not unsubscribe than those who unsubscribe\n",
    "- There are also more customers whose gender is unknown than those who unsubscribe"
   ]
  },
  {
   "cell_type": "code",
   "execution_count": 255,
   "id": "jEbqMvo09HXP",
   "metadata": {
    "id": "jEbqMvo09HXP"
   },
   "outputs": [],
   "source": [
    "dftest = df[['Churn', 'SeniorCitizen', 'tenure', 'MonthlyCharges', 'TotalCharges']]\n",
    "dftest1 = dftest.query(\"Churn == 'No'\")\n",
    "dftest2 = dftest.query(\"Churn != 'No'\")"
   ]
  },
  {
   "cell_type": "code",
   "execution_count": 256,
   "id": "1uFNH-mg9JDc",
   "metadata": {
    "colab": {
     "base_uri": "https://localhost:8080/"
    },
    "id": "1uFNH-mg9JDc",
    "outputId": "36b168d1-fa10-4650-b606-a51130e15adf"
   },
   "outputs": [
    {
     "data": {
      "text/plain": [
       "0.0        3860\n",
       "unknown     748\n",
       "1.0         566\n",
       "Name: SeniorCitizen, dtype: int64"
      ]
     },
     "execution_count": 256,
     "metadata": {},
     "output_type": "execute_result"
    }
   ],
   "source": [
    "# SeniorCitizen still Subscribe (No Churn)\n",
    "dftest1['SeniorCitizen'].value_counts()"
   ]
  },
  {
   "cell_type": "code",
   "execution_count": 257,
   "id": "uSXZhubr9Kka",
   "metadata": {
    "colab": {
     "base_uri": "https://localhost:8080/"
    },
    "id": "uSXZhubr9Kka",
    "outputId": "c4e6cf91-33ac-4563-89f6-78d28f54d780"
   },
   "outputs": [
    {
     "data": {
      "text/plain": [
       "0.0        1197\n",
       "1.0         411\n",
       "unknown     261\n",
       "Name: SeniorCitizen, dtype: int64"
      ]
     },
     "execution_count": 257,
     "metadata": {},
     "output_type": "execute_result"
    }
   ],
   "source": [
    "# SeniorCitizen stop Subscribe (Churn)\n",
    "dftest2['SeniorCitizen'].value_counts()"
   ]
  },
  {
   "cell_type": "code",
   "execution_count": 258,
   "id": "GItCDII0S2G6",
   "metadata": {
    "colab": {
     "base_uri": "https://localhost:8080/",
     "height": 386
    },
    "id": "GItCDII0S2G6",
    "outputId": "d8f895e6-6613-46dc-f6db-ae4aac35ad7f"
   },
   "outputs": [
    {
     "data": {
      "text/plain": [
       "<seaborn.axisgrid.FacetGrid at 0x205601919a0>"
      ]
     },
     "execution_count": 258,
     "metadata": {},
     "output_type": "execute_result"
    },
    {
     "data": {
      "image/png": "[encoded data removed]",
      "text/plain": [
       "<Figure size 441.375x360 with 1 Axes>"
      ]
     },
     "metadata": {
      "needs_background": "light"
     },
     "output_type": "display_data"
    }
   ],
   "source": [
    "sns.catplot(x=\"Churn\", kind=\"count\", hue=\"SeniorCitizen\", data=df, palette='flare')"
   ]
  },
  {
   "cell_type": "markdown",
   "id": "K1w876WWTTZ4",
   "metadata": {
    "id": "K1w876WWTTZ4"
   },
   "source": [
    "From the customers who still subscribe, the most are those who are not senior citizens. Likewise, of the customers who unsubscribed, the most were those who were not senior citizens."
   ]
  },
  {
   "cell_type": "code",
   "execution_count": 259,
   "id": "6c8667e7",
   "metadata": {
    "colab": {
     "base_uri": "https://localhost:8080/",
     "height": 456
    },
    "id": "6c8667e7",
    "outputId": "c242b43c-7268-4ce9-a585-701fc6e7fffe"
   },
   "outputs": [
    {
     "name": "stdout",
     "output_type": "stream",
     "text": [
      "InternetService   DSL  Fiber optic    No  unknown\n",
      "Churn                                            \n",
      "No               3382         3024  2446     1496\n",
      "Yes               802         2218   196      522\n"
     ]
    },
    {
     "data": {
      "text/plain": [
       "<seaborn.axisgrid.FacetGrid at 0x2056013a190>"
      ]
     },
     "execution_count": 259,
     "metadata": {},
     "output_type": "execute_result"
    },
    {
     "data": {
      "image/png": "[encoded data removed]",
      "text/plain": [
       "<Figure size 448x360 with 1 Axes>"
      ]
     },
     "metadata": {
      "needs_background": "light"
     },
     "output_type": "display_data"
    }
   ],
   "source": [
    "print(make_pivot('Churn','InternetService'))\n",
    "sns.catplot(x=\"Churn\", kind=\"count\", hue=\"InternetService\", data=df, palette='flare')"
   ]
  },
  {
   "cell_type": "markdown",
   "id": "4cff5eb0",
   "metadata": {
    "id": "4cff5eb0"
   },
   "source": [
    "- Customers who use DSL internet services and still subscribe to the most among other internet services\n",
    "- More customers who use Fiber Optic internet services are still subscribed than unsubscribed\n",
    "- More customers who do not use internet services are still subscribed than unsubscribed\n",
    "- More customers whose internet service is not known are still subscribed than unsubscribed\n",
    "- For subscribers who are still subscribed, most use DSL internet service, while at least the type of service is unknown\n",
    "- For customers who unsubscribe the most use Fiber Optic internet services, while at least do not use internet services"
   ]
  },
  {
   "cell_type": "code",
   "execution_count": 260,
   "id": "f47b4cd8",
   "metadata": {
    "colab": {
     "base_uri": "https://localhost:8080/",
     "height": 456
    },
    "id": "f47b4cd8",
    "outputId": "f46e0023-a577-4fbc-925e-ff52047b4db7"
   },
   "outputs": [
    {
     "name": "stdout",
     "output_type": "stream",
     "text": [
      "PaperlessBilling    No   Yes\n",
      "Churn                       \n",
      "No                4806  5542\n",
      "Yes                938  2800\n"
     ]
    },
    {
     "data": {
      "text/plain": [
       "<seaborn.axisgrid.FacetGrid at 0x205601ad4f0>"
      ]
     },
     "execution_count": 260,
     "metadata": {},
     "output_type": "execute_result"
    },
    {
     "data": {
      "image/png": "[encoded data removed]",
      "text/plain": [
       "<Figure size 446.75x360 with 1 Axes>"
      ]
     },
     "metadata": {
      "needs_background": "light"
     },
     "output_type": "display_data"
    }
   ],
   "source": [
    "print(make_pivot('Churn','PaperlessBilling'))\n",
    "sns.catplot(x=\"Churn\", kind=\"count\", hue=\"PaperlessBilling\", data=df, palette='flare')"
   ]
  },
  {
   "cell_type": "markdown",
   "id": "fd84ba8b",
   "metadata": {
    "id": "fd84ba8b"
   },
   "source": [
    "- Customers who are still subscribed use more electronic transactions (paperless billing) than do not use electronic transactions (paperless billing)\n",
    "- Customers who stop subscribing are also more likely to use electronic transactions than those who do not use electronic transactions"
   ]
  },
  {
   "cell_type": "code",
   "execution_count": 261,
   "id": "79e65d77",
   "metadata": {
    "colab": {
     "base_uri": "https://localhost:8080/",
     "height": 456
    },
    "id": "79e65d77",
    "outputId": "f73ba8d1-4591-4073-ed50-bec1839bed7b"
   },
   "outputs": [
    {
     "name": "stdout",
     "output_type": "stream",
     "text": [
      "Dependents    No   Yes  unknown\n",
      "Churn                          \n",
      "No          5824  3028     1496\n",
      "Yes         2652   564      522\n"
     ]
    },
    {
     "data": {
      "text/plain": [
       "<seaborn.axisgrid.FacetGrid at 0x20560191b20>"
      ]
     },
     "execution_count": 261,
     "metadata": {},
     "output_type": "execute_result"
    },
    {
     "data": {
      "image/png": "[encoded data removed]",
      "text/plain": [
       "<Figure size 441.375x360 with 1 Axes>"
      ]
     },
     "metadata": {
      "needs_background": "light"
     },
     "output_type": "display_data"
    }
   ],
   "source": [
    "print(make_pivot('Churn','Dependents'))\n",
    "sns.catplot(x=\"Churn\", kind=\"count\", hue=\"Dependents\", data=df, palette='flare')"
   ]
  },
  {
   "cell_type": "markdown",
   "id": "d72458fd",
   "metadata": {
    "id": "d72458fd"
   },
   "source": [
    "- Of the customers who are still subscribed, the most are customers who have no dependents\n",
    "- Of the customers who unsubscribe, the most are customers who have no dependents\n",
    "- Of the customers who still have dependents, more are customers who are still subscribed"
   ]
  },
  {
   "cell_type": "code",
   "execution_count": 262,
   "id": "a848e18b",
   "metadata": {
    "colab": {
     "base_uri": "https://localhost:8080/",
     "height": 456
    },
    "id": "a848e18b",
    "outputId": "e8650266-d417-4bb3-99a8-c469dc2748a4"
   },
   "outputs": [
    {
     "name": "stdout",
     "output_type": "stream",
     "text": [
      "Partner    No   Yes  unknown\n",
      "Churn                       \n",
      "No       4158  4694     1496\n",
      "Yes      2064  1152      522\n"
     ]
    },
    {
     "data": {
      "text/plain": [
       "<seaborn.axisgrid.FacetGrid at 0x205602baf40>"
      ]
     },
     "execution_count": 262,
     "metadata": {},
     "output_type": "execute_result"
    },
    {
     "data": {
      "image/png": "[encoded data removed]",
      "text/plain": [
       "<Figure size 441.375x360 with 1 Axes>"
      ]
     },
     "metadata": {
      "needs_background": "light"
     },
     "output_type": "display_data"
    }
   ],
   "source": [
    "print(make_pivot('Churn','Partner'))\n",
    "sns.catplot(x=\"Churn\", kind=\"count\", hue=\"Partner\", data=df, palette='flare')"
   ]
  },
  {
   "cell_type": "markdown",
   "id": "ceb8afee",
   "metadata": {
    "id": "ceb8afee"
   },
   "source": [
    "- Of the customers who are still subscribed, the most are customers who have a partner\n",
    "- Of the customers who unsubscribe, the most are customers who do not have a partner\n",
    "- Customers who are not known to have the most partners are still subscribed"
   ]
  },
  {
   "cell_type": "code",
   "execution_count": 263,
   "id": "902afd0f",
   "metadata": {
    "colab": {
     "base_uri": "https://localhost:8080/",
     "height": 456
    },
    "id": "902afd0f",
    "outputId": "a9620f13-528d-42fc-8268-ede0306697c7"
   },
   "outputs": [
    {
     "name": "stdout",
     "output_type": "stream",
     "text": [
      "PhoneService    No   Yes\n",
      "Churn                   \n",
      "No            1024  9324\n",
      "Yes            340  3398\n"
     ]
    },
    {
     "data": {
      "text/plain": [
       "<seaborn.axisgrid.FacetGrid at 0x205601f4df0>"
      ]
     },
     "execution_count": 263,
     "metadata": {},
     "output_type": "execute_result"
    },
    {
     "data": {
      "image/png": "[encoded data removed]",
      "text/plain": [
       "<Figure size 435.75x360 with 1 Axes>"
      ]
     },
     "metadata": {
      "needs_background": "light"
     },
     "output_type": "display_data"
    }
   ],
   "source": [
    "print(make_pivot('Churn','PhoneService'))\n",
    "sns.catplot(x=\"Churn\", kind=\"count\", hue=\"PhoneService\", data=df, palette='flare')"
   ]
  },
  {
   "cell_type": "markdown",
   "id": "6b5904f6",
   "metadata": {
    "id": "6b5904f6"
   },
   "source": [
    "- More subscribers who are still subscribed use telephone service than those who do not use telephone service\n",
    "- Customers who unsubscribe are also more likely to use telephone services than those who do not"
   ]
  },
  {
   "cell_type": "code",
   "execution_count": 264,
   "id": "df66e60b",
   "metadata": {
    "colab": {
     "base_uri": "https://localhost:8080/",
     "height": 456
    },
    "id": "df66e60b",
    "outputId": "d20e5dc7-3ae7-4a87-fbbf-ea8bd54e7741"
   },
   "outputs": [
    {
     "name": "stdout",
     "output_type": "stream",
     "text": [
      "MultipleLines    No  No phone service   Yes  unknown\n",
      "Churn                                               \n",
      "No             4368               884  3600     1496\n",
      "Yes            1448               294  1474      522\n"
     ]
    },
    {
     "data": {
      "text/plain": [
       "<seaborn.axisgrid.FacetGrid at 0x205602ba250>"
      ]
     },
     "execution_count": 264,
     "metadata": {},
     "output_type": "execute_result"
    },
    {
     "data": {
      "image/png": "[encoded data removed]",
      "text/plain": [
       "<Figure size 482.75x360 with 1 Axes>"
      ]
     },
     "metadata": {
      "needs_background": "light"
     },
     "output_type": "display_data"
    }
   ],
   "source": [
    "print(make_pivot('Churn','MultipleLines'))\n",
    "sns.catplot(x=\"Churn\", kind=\"count\", hue=\"MultipleLines\", data=df, palette='flare')"
   ]
  },
  {
   "cell_type": "markdown",
   "id": "c5a5991d",
   "metadata": {
    "id": "c5a5991d"
   },
   "source": [
    "- Most subscribers who are still subscribed do not use Multiple Lines\n",
    "- Most unsubscribed customers use Multiple Lines"
   ]
  },
  {
   "cell_type": "code",
   "execution_count": 265,
   "id": "69fcddad",
   "metadata": {
    "colab": {
     "base_uri": "https://localhost:8080/",
     "height": 456
    },
    "id": "69fcddad",
    "outputId": "7796d834-9b5b-4ed2-c7f4-e07ae396cc47"
   },
   "outputs": [
    {
     "name": "stdout",
     "output_type": "stream",
     "text": [
      "OnlineSecurity    No  No internet service   Yes  unknown\n",
      "Churn                                                   \n",
      "No              3468                 2446  2938     1496\n",
      "Yes             2518                  196   502      522\n"
     ]
    },
    {
     "data": {
      "text/plain": [
       "<seaborn.axisgrid.FacetGrid at 0x20560310100>"
      ]
     },
     "execution_count": 265,
     "metadata": {},
     "output_type": "execute_result"
    },
    {
     "data": {
      "image/png": "[encoded data removed]",
      "text/plain": [
       "<Figure size 491.25x360 with 1 Axes>"
      ]
     },
     "metadata": {
      "needs_background": "light"
     },
     "output_type": "display_data"
    }
   ],
   "source": [
    "print(make_pivot('Churn','OnlineSecurity'))\n",
    "sns.catplot(x=\"Churn\", kind=\"count\", hue=\"OnlineSecurity\", data=df, palette='flare')"
   ]
  },
  {
   "cell_type": "markdown",
   "id": "a69193b9",
   "metadata": {
    "id": "a69193b9"
   },
   "source": [
    "- Most subscribers who still have no online protection/security\n",
    "- Customers who unsubscribe are also the most without online protection/security"
   ]
  },
  {
   "cell_type": "code",
   "execution_count": 266,
   "id": "769452dd",
   "metadata": {
    "colab": {
     "base_uri": "https://localhost:8080/",
     "height": 456
    },
    "id": "769452dd",
    "outputId": "5477a233-ff65-48a2-8414-18f34f52500e"
   },
   "outputs": [
    {
     "name": "stdout",
     "output_type": "stream",
     "text": [
      "OnlineBackup    No  No internet service   Yes  unknown\n",
      "Churn                                                 \n",
      "No            3152                 2446  3254     1496\n",
      "Yes           2134                  196   886      522\n"
     ]
    },
    {
     "data": {
      "text/plain": [
       "<seaborn.axisgrid.FacetGrid at 0x2056053e0a0>"
      ]
     },
     "execution_count": 266,
     "metadata": {},
     "output_type": "execute_result"
    },
    {
     "data": {
      "image/png": "[encoded data removed]",
      "text/plain": [
       "<Figure size 491.25x360 with 1 Axes>"
      ]
     },
     "metadata": {
      "needs_background": "light"
     },
     "output_type": "display_data"
    }
   ],
   "source": [
    "print(make_pivot('Churn','OnlineBackup'))\n",
    "sns.catplot(x=\"Churn\", kind=\"count\", hue=\"OnlineBackup\", data=df, palette='flare')"
   ]
  },
  {
   "cell_type": "markdown",
   "id": "4062ac81",
   "metadata": {
    "id": "4062ac81"
   },
   "source": [
    "- Most subscribers who still have online backup\n",
    "- Customers who unsubscribe are the most without online backup"
   ]
  },
  {
   "cell_type": "code",
   "execution_count": 267,
   "id": "21ed1d81",
   "metadata": {
    "colab": {
     "base_uri": "https://localhost:8080/",
     "height": 456
    },
    "id": "21ed1d81",
    "outputId": "7a19d10d-92aa-46e4-f156-eb05789f5099"
   },
   "outputs": [
    {
     "name": "stdout",
     "output_type": "stream",
     "text": [
      "DeviceProtection    No  No internet service   Yes  unknown\n",
      "Churn                                                     \n",
      "No                3200                 2446  3206     1496\n",
      "Yes               2086                  196   934      522\n"
     ]
    },
    {
     "data": {
      "text/plain": [
       "<seaborn.axisgrid.FacetGrid at 0x2056008c2b0>"
      ]
     },
     "execution_count": 267,
     "metadata": {},
     "output_type": "execute_result"
    },
    {
     "data": {
      "image/png": "[encoded data removed]",
      "text/plain": [
       "<Figure size 491.25x360 with 1 Axes>"
      ]
     },
     "metadata": {
      "needs_background": "light"
     },
     "output_type": "display_data"
    }
   ],
   "source": [
    "print(make_pivot('Churn','DeviceProtection'))\n",
    "sns.catplot(x=\"Churn\", kind=\"count\", hue=\"DeviceProtection\", data=df, palette='flare')"
   ]
  },
  {
   "cell_type": "markdown",
   "id": "30462dd0",
   "metadata": {
    "id": "30462dd0"
   },
   "source": [
    "- Most subscribers who still have device protection\n",
    "- Customers who unsubscribe are the most without device protection"
   ]
  },
  {
   "cell_type": "code",
   "execution_count": 268,
   "id": "d2696f71",
   "metadata": {
    "colab": {
     "base_uri": "https://localhost:8080/",
     "height": 456
    },
    "id": "d2696f71",
    "outputId": "581b153e-b859-4d8d-dd85-6d3600ad0fbc"
   },
   "outputs": [
    {
     "name": "stdout",
     "output_type": "stream",
     "text": [
      "TechSupport    No  No internet service   Yes  unknown\n",
      "Churn                                                \n",
      "No           3476                 2446  2930     1496\n",
      "Yes          2470                  196   550      522\n"
     ]
    },
    {
     "data": {
      "text/plain": [
       "<seaborn.axisgrid.FacetGrid at 0x20560098b50>"
      ]
     },
     "execution_count": 268,
     "metadata": {},
     "output_type": "execute_result"
    },
    {
     "data": {
      "image/png": "[encoded data removed]",
      "text/plain": [
       "<Figure size 491.25x360 with 1 Axes>"
      ]
     },
     "metadata": {
      "needs_background": "light"
     },
     "output_type": "display_data"
    }
   ],
   "source": [
    "print(make_pivot('Churn','TechSupport'))\n",
    "sns.catplot(x=\"Churn\", kind=\"count\", hue=\"TechSupport\", data=df, palette='flare')"
   ]
  },
  {
   "cell_type": "markdown",
   "id": "d068aba4",
   "metadata": {
    "id": "d068aba4"
   },
   "source": [
    "- Most of the customers who are still subscribed do not have technology/technical support\n",
    "- Most of the unsubscribed customers do not have technology/technical support"
   ]
  },
  {
   "cell_type": "code",
   "execution_count": 269,
   "id": "895e409b",
   "metadata": {
    "colab": {
     "base_uri": "https://localhost:8080/",
     "height": 456
    },
    "id": "895e409b",
    "outputId": "d9b0ad8b-efb6-4647-d7c4-ac346614cddb"
   },
   "outputs": [
    {
     "name": "stdout",
     "output_type": "stream",
     "text": [
      "StreamingTV    No  No internet service   Yes  unknown\n",
      "Churn                                                \n",
      "No           3202                 2446  3204     1496\n",
      "Yes          1604                  196  1416      522\n"
     ]
    },
    {
     "data": {
      "text/plain": [
       "<seaborn.axisgrid.FacetGrid at 0x2056058ed90>"
      ]
     },
     "execution_count": 269,
     "metadata": {},
     "output_type": "execute_result"
    },
    {
     "data": {
      "image/png": "[encoded data removed]",
      "text/plain": [
       "<Figure size 491.25x360 with 1 Axes>"
      ]
     },
     "metadata": {
      "needs_background": "light"
     },
     "output_type": "display_data"
    }
   ],
   "source": [
    "print(make_pivot('Churn','StreamingTV'))\n",
    "sns.catplot(x=\"Churn\", kind=\"count\", hue=\"StreamingTV\", data=df, palette='flare')"
   ]
  },
  {
   "cell_type": "markdown",
   "id": "e84ad5ad",
   "metadata": {
    "id": "e84ad5ad"
   },
   "source": [
    "- Most subscribers who are still subscribed have access to Streaming TV\n",
    "- But the number is almost the same as those who do not have access to Streaming TV\n",
    "- Most unsubscribed subscribers do not have access to Streaming TV"
   ]
  },
  {
   "cell_type": "code",
   "execution_count": 270,
   "id": "8edaebfc",
   "metadata": {
    "colab": {
     "base_uri": "https://localhost:8080/",
     "height": 456
    },
    "id": "8edaebfc",
    "outputId": "8ea58468-ded6-44af-b5d3-583913ba652a"
   },
   "outputs": [
    {
     "name": "stdout",
     "output_type": "stream",
     "text": [
      "StreamingMovies    No  No internet service   Yes  unknown\n",
      "Churn                                                    \n",
      "No               3162                 2446  3244     1496\n",
      "Yes              1626                  196  1394      522\n"
     ]
    },
    {
     "data": {
      "text/plain": [
       "<seaborn.axisgrid.FacetGrid at 0x2055ffb9850>"
      ]
     },
     "execution_count": 270,
     "metadata": {},
     "output_type": "execute_result"
    },
    {
     "data": {
      "image/png": "[encoded data removed]",
      "text/plain": [
       "<Figure size 491.25x360 with 1 Axes>"
      ]
     },
     "metadata": {
      "needs_background": "light"
     },
     "output_type": "display_data"
    }
   ],
   "source": [
    "print(make_pivot('Churn','StreamingMovies'))\n",
    "sns.catplot(x=\"Churn\", kind=\"count\", hue=\"StreamingMovies\", data=df, palette='flare')"
   ]
  },
  {
   "cell_type": "markdown",
   "id": "dd04f5bd",
   "metadata": {
    "id": "dd04f5bd"
   },
   "source": [
    "- Most subscribers who are still subscribed have access to Streaming Movies\n",
    "- Most unsubscribed subscribers do not have access to Streaming Movies"
   ]
  },
  {
   "cell_type": "code",
   "execution_count": 271,
   "id": "04570eb6",
   "metadata": {
    "colab": {
     "base_uri": "https://localhost:8080/",
     "height": 456
    },
    "id": "04570eb6",
    "outputId": "a59f8847-2391-48b2-90e1-ff41823f8bbf"
   },
   "outputs": [
    {
     "name": "stdout",
     "output_type": "stream",
     "text": [
      "Contract  Month-to-month  One year  Two year\n",
      "Churn                                       \n",
      "No                  4440      2614      3294\n",
      "Yes                 3310       332        96\n"
     ]
    },
    {
     "data": {
      "text/plain": [
       "<seaborn.axisgrid.FacetGrid at 0x2055be727c0>"
      ]
     },
     "execution_count": 271,
     "metadata": {},
     "output_type": "execute_result"
    },
    {
     "data": {
      "image/png": "[encoded data removed]",
      "text/plain": [
       "<Figure size 476.75x360 with 1 Axes>"
      ]
     },
     "metadata": {
      "needs_background": "light"
     },
     "output_type": "display_data"
    }
   ],
   "source": [
    "print(make_pivot('Churn','Contract'))\n",
    "sns.catplot(x=\"Churn\", kind=\"count\", hue=\"Contract\", data=df, palette='flare')"
   ]
  },
  {
   "cell_type": "markdown",
   "id": "467ba2dc",
   "metadata": {
    "id": "467ba2dc"
   },
   "source": [
    "- Customers who are still subscribed have more monthly contracts\n",
    "- Customers who unsubscribe also have more monthly contracts"
   ]
  },
  {
   "cell_type": "code",
   "execution_count": 272,
   "id": "52593281",
   "metadata": {
    "colab": {
     "base_uri": "https://localhost:8080/",
     "height": 543
    },
    "id": "52593281",
    "outputId": "bb42e94c-047a-477e-80c8-528c61dd766a"
   },
   "outputs": [
    {
     "name": "stdout",
     "output_type": "stream",
     "text": [
      "PaymentMethod  Bank transfer (automatic)  Credit card (automatic)  \\\n",
      "Churn                                                               \n",
      "No                                  2572                     2580   \n",
      "Yes                                  516                      464   \n",
      "\n",
      "PaymentMethod  Electronic check  Mailed check  \n",
      "Churn                                          \n",
      "No                         2588          2608  \n",
      "Yes                        2142           616  \n"
     ]
    },
    {
     "data": {
      "text/plain": [
       "<seaborn.axisgrid.FacetGrid at 0x2055c6327c0>"
      ]
     },
     "execution_count": 272,
     "metadata": {},
     "output_type": "execute_result"
    },
    {
     "data": {
      "image/png": "[encoded data removed]",
      "text/plain": [
       "<Figure size 525.125x360 with 1 Axes>"
      ]
     },
     "metadata": {
      "needs_background": "light"
     },
     "output_type": "display_data"
    }
   ],
   "source": [
    "print(make_pivot('Churn','PaymentMethod'))\n",
    "sns.catplot(x=\"Churn\", kind=\"count\", hue=\"PaymentMethod\", data=df, palette='flare')"
   ]
  },
  {
   "cell_type": "markdown",
   "id": "c989247a",
   "metadata": {
    "id": "c989247a"
   },
   "source": [
    "- Customers who are still subscribed mostly use the Mailed Check payment method\n",
    "- Customers who unsubscribe mostly use the Electronic Check payment method\n",
    "- From customers who are still subscribed, use a payment method tends to be similiar.\n",
    "- But for unsubscribed customers, the payment methods tend to be different due to non-existent differences between the methods and others"
   ]
  },
  {
   "cell_type": "code",
   "execution_count": 273,
   "id": "Wb-tGjIuytrs",
   "metadata": {
    "colab": {
     "base_uri": "https://localhost:8080/",
     "height": 296
    },
    "id": "Wb-tGjIuytrs",
    "outputId": "f615ca55-6488-4a2b-af8b-c462c2a197a4"
   },
   "outputs": [
    {
     "data": {
      "text/plain": [
       "<AxesSubplot:xlabel='tenure', ylabel='Density'>"
      ]
     },
     "execution_count": 273,
     "metadata": {},
     "output_type": "execute_result"
    },
    {
     "data": {
      "image/png": "[encoded data removed]",
      "text/plain": [
       "<Figure size 432x288 with 1 Axes>"
      ]
     },
     "metadata": {
      "needs_background": "light"
     },
     "output_type": "display_data"
    }
   ],
   "source": [
    "sns.distplot(df['tenure'])"
   ]
  },
  {
   "cell_type": "code",
   "execution_count": 274,
   "id": "J63oawWs9d9p",
   "metadata": {
    "colab": {
     "base_uri": "https://localhost:8080/",
     "height": 300
    },
    "id": "J63oawWs9d9p",
    "outputId": "192e2e5f-0d2a-45b1-872a-d9b7182b3f33"
   },
   "outputs": [
    {
     "data": {
      "text/html": [
       "<div>\n",
       "<style scoped>\n",
       "    .dataframe tbody tr th:only-of-type {\n",
       "        vertical-align: middle;\n",
       "    }\n",
       "\n",
       "    .dataframe tbody tr th {\n",
       "        vertical-align: top;\n",
       "    }\n",
       "\n",
       "    .dataframe thead th {\n",
       "        text-align: right;\n",
       "    }\n",
       "</style>\n",
       "<table border=\"1\" class=\"dataframe\">\n",
       "  <thead>\n",
       "    <tr style=\"text-align: right;\">\n",
       "      <th></th>\n",
       "      <th>tenure</th>\n",
       "      <th>MonthlyCharges</th>\n",
       "      <th>TotalCharges</th>\n",
       "    </tr>\n",
       "  </thead>\n",
       "  <tbody>\n",
       "    <tr>\n",
       "      <th>count</th>\n",
       "      <td>5174.000000</td>\n",
       "      <td>5174.000000</td>\n",
       "      <td>5174.000000</td>\n",
       "    </tr>\n",
       "    <tr>\n",
       "      <th>mean</th>\n",
       "      <td>37.569965</td>\n",
       "      <td>61.265124</td>\n",
       "      <td>2552.882494</td>\n",
       "    </tr>\n",
       "    <tr>\n",
       "      <th>std</th>\n",
       "      <td>24.113777</td>\n",
       "      <td>31.092648</td>\n",
       "      <td>2327.590132</td>\n",
       "    </tr>\n",
       "    <tr>\n",
       "      <th>min</th>\n",
       "      <td>0.000000</td>\n",
       "      <td>18.250000</td>\n",
       "      <td>18.800000</td>\n",
       "    </tr>\n",
       "    <tr>\n",
       "      <th>25%</th>\n",
       "      <td>15.000000</td>\n",
       "      <td>25.100000</td>\n",
       "      <td>579.575000</td>\n",
       "    </tr>\n",
       "    <tr>\n",
       "      <th>50%</th>\n",
       "      <td>38.000000</td>\n",
       "      <td>64.425000</td>\n",
       "      <td>1679.525000</td>\n",
       "    </tr>\n",
       "    <tr>\n",
       "      <th>75%</th>\n",
       "      <td>61.000000</td>\n",
       "      <td>88.400000</td>\n",
       "      <td>4262.850000</td>\n",
       "    </tr>\n",
       "    <tr>\n",
       "      <th>max</th>\n",
       "      <td>72.000000</td>\n",
       "      <td>118.750000</td>\n",
       "      <td>8672.450000</td>\n",
       "    </tr>\n",
       "  </tbody>\n",
       "</table>\n",
       "</div>"
      ],
      "text/plain": [
       "            tenure  MonthlyCharges  TotalCharges\n",
       "count  5174.000000     5174.000000   5174.000000\n",
       "mean     37.569965       61.265124   2552.882494\n",
       "std      24.113777       31.092648   2327.590132\n",
       "min       0.000000       18.250000     18.800000\n",
       "25%      15.000000       25.100000    579.575000\n",
       "50%      38.000000       64.425000   1679.525000\n",
       "75%      61.000000       88.400000   4262.850000\n",
       "max      72.000000      118.750000   8672.450000"
      ]
     },
     "execution_count": 274,
     "metadata": {},
     "output_type": "execute_result"
    }
   ],
   "source": [
    "dftest1.describe()"
   ]
  },
  {
   "cell_type": "code",
   "execution_count": 275,
   "id": "QWgAGYF49fyB",
   "metadata": {
    "colab": {
     "base_uri": "https://localhost:8080/",
     "height": 300
    },
    "id": "QWgAGYF49fyB",
    "outputId": "cf021db4-f230-443e-c316-d4206070b6f9"
   },
   "outputs": [
    {
     "data": {
      "text/html": [
       "<div>\n",
       "<style scoped>\n",
       "    .dataframe tbody tr th:only-of-type {\n",
       "        vertical-align: middle;\n",
       "    }\n",
       "\n",
       "    .dataframe tbody tr th {\n",
       "        vertical-align: top;\n",
       "    }\n",
       "\n",
       "    .dataframe thead th {\n",
       "        text-align: right;\n",
       "    }\n",
       "</style>\n",
       "<table border=\"1\" class=\"dataframe\">\n",
       "  <thead>\n",
       "    <tr style=\"text-align: right;\">\n",
       "      <th></th>\n",
       "      <th>tenure</th>\n",
       "      <th>MonthlyCharges</th>\n",
       "      <th>TotalCharges</th>\n",
       "    </tr>\n",
       "  </thead>\n",
       "  <tbody>\n",
       "    <tr>\n",
       "      <th>count</th>\n",
       "      <td>1869.000000</td>\n",
       "      <td>1869.000000</td>\n",
       "      <td>1869.000000</td>\n",
       "    </tr>\n",
       "    <tr>\n",
       "      <th>mean</th>\n",
       "      <td>17.979133</td>\n",
       "      <td>74.441332</td>\n",
       "      <td>1531.796094</td>\n",
       "    </tr>\n",
       "    <tr>\n",
       "      <th>std</th>\n",
       "      <td>19.531123</td>\n",
       "      <td>24.666053</td>\n",
       "      <td>1890.822994</td>\n",
       "    </tr>\n",
       "    <tr>\n",
       "      <th>min</th>\n",
       "      <td>1.000000</td>\n",
       "      <td>18.850000</td>\n",
       "      <td>18.850000</td>\n",
       "    </tr>\n",
       "    <tr>\n",
       "      <th>25%</th>\n",
       "      <td>2.000000</td>\n",
       "      <td>56.150000</td>\n",
       "      <td>134.500000</td>\n",
       "    </tr>\n",
       "    <tr>\n",
       "      <th>50%</th>\n",
       "      <td>10.000000</td>\n",
       "      <td>79.650000</td>\n",
       "      <td>703.550000</td>\n",
       "    </tr>\n",
       "    <tr>\n",
       "      <th>75%</th>\n",
       "      <td>29.000000</td>\n",
       "      <td>94.200000</td>\n",
       "      <td>2331.300000</td>\n",
       "    </tr>\n",
       "    <tr>\n",
       "      <th>max</th>\n",
       "      <td>72.000000</td>\n",
       "      <td>118.350000</td>\n",
       "      <td>8684.800000</td>\n",
       "    </tr>\n",
       "  </tbody>\n",
       "</table>\n",
       "</div>"
      ],
      "text/plain": [
       "            tenure  MonthlyCharges  TotalCharges\n",
       "count  1869.000000     1869.000000   1869.000000\n",
       "mean     17.979133       74.441332   1531.796094\n",
       "std      19.531123       24.666053   1890.822994\n",
       "min       1.000000       18.850000     18.850000\n",
       "25%       2.000000       56.150000    134.500000\n",
       "50%      10.000000       79.650000    703.550000\n",
       "75%      29.000000       94.200000   2331.300000\n",
       "max      72.000000      118.350000   8684.800000"
      ]
     },
     "execution_count": 275,
     "metadata": {},
     "output_type": "execute_result"
    }
   ],
   "source": [
    "dftest2.describe()"
   ]
  },
  {
   "cell_type": "code",
   "execution_count": 276,
   "id": "sBnQ1M1N9hTL",
   "metadata": {
    "colab": {
     "base_uri": "https://localhost:8080/"
    },
    "id": "sBnQ1M1N9hTL",
    "outputId": "17e17074-5345-47b5-b0ef-4b9f3c10cd5e"
   },
   "outputs": [
    {
     "name": "stdout",
     "output_type": "stream",
     "text": [
      "Modus No Churn:  72\n",
      "Modus Churn:  1\n"
     ]
    }
   ],
   "source": [
    "print('Modus No Churn: ', dftest1['tenure'].mode().values[0])\n",
    "print('Modus Churn: ', dftest2['tenure'].mode().values[0])"
   ]
  },
  {
   "cell_type": "code",
   "execution_count": 277,
   "id": "7dd24404",
   "metadata": {
    "colab": {
     "base_uri": "https://localhost:8080/",
     "height": 283
    },
    "id": "7dd24404",
    "outputId": "7514f1f6-45a7-491b-da1f-4bfa09f36ce0"
   },
   "outputs": [
    {
     "data": {
      "image/png": "[encoded data removed]",
      "text/plain": [
       "<Figure size 432x288 with 1 Axes>"
      ]
     },
     "metadata": {
      "needs_background": "light"
     },
     "output_type": "display_data"
    }
   ],
   "source": [
    "sns.barplot(x='Churn', y='tenure', data=df, palette='flare');"
   ]
  },
  {
   "cell_type": "markdown",
   "id": "065ef541",
   "metadata": {
    "id": "065ef541"
   },
   "source": [
    "Ownership of customers who are still subscribed longer than customers who unsubscribe."
   ]
  },
  {
   "cell_type": "code",
   "execution_count": 278,
   "id": "3frPDQYkywMF",
   "metadata": {
    "colab": {
     "base_uri": "https://localhost:8080/",
     "height": 296
    },
    "id": "3frPDQYkywMF",
    "outputId": "a7eb86a5-86aa-4b2b-80eb-cd6db1bea31f"
   },
   "outputs": [
    {
     "data": {
      "text/plain": [
       "<AxesSubplot:xlabel='MonthlyCharges', ylabel='Density'>"
      ]
     },
     "execution_count": 278,
     "metadata": {},
     "output_type": "execute_result"
    },
    {
     "data": {
      "image/png": "[encoded data removed]",
      "text/plain": [
       "<Figure size 432x288 with 1 Axes>"
      ]
     },
     "metadata": {
      "needs_background": "light"
     },
     "output_type": "display_data"
    }
   ],
   "source": [
    "sns.distplot(df['MonthlyCharges'])"
   ]
  },
  {
   "cell_type": "code",
   "execution_count": 279,
   "id": "PsNCdyBg9jGj",
   "metadata": {
    "colab": {
     "base_uri": "https://localhost:8080/"
    },
    "id": "PsNCdyBg9jGj",
    "outputId": "a4a618a0-0d63-4189-dc08-40e6ae27bdac"
   },
   "outputs": [
    {
     "name": "stdout",
     "output_type": "stream",
     "text": [
      "Modus No Churn:  20.05\n",
      "Modus Churn:  74.4\n"
     ]
    }
   ],
   "source": [
    "print('Modus No Churn: ', dftest1['MonthlyCharges'].mode().values[0])\n",
    "print('Modus Churn: ', dftest2['MonthlyCharges'].mode().values[0])"
   ]
  },
  {
   "cell_type": "code",
   "execution_count": 280,
   "id": "35e5fd45",
   "metadata": {
    "colab": {
     "base_uri": "https://localhost:8080/",
     "height": 279
    },
    "id": "35e5fd45",
    "outputId": "b89f9d8a-dba3-482f-d76f-a8d0be91e2da"
   },
   "outputs": [
    {
     "data": {
      "image/png": "[encoded data removed]",
      "text/plain": [
       "<Figure size 432x288 with 1 Axes>"
      ]
     },
     "metadata": {
      "needs_background": "light"
     },
     "output_type": "display_data"
    }
   ],
   "source": [
    "sns.barplot(x='Churn', y='MonthlyCharges', data=df, palette='flare');"
   ]
  },
  {
   "cell_type": "markdown",
   "id": "8ff78460",
   "metadata": {
    "id": "8ff78460"
   },
   "source": [
    "The monthly costs incurred by customers who unsubscribe are more than customers who are still subscribed."
   ]
  },
  {
   "cell_type": "code",
   "execution_count": 281,
   "id": "I2VNGIGpyz42",
   "metadata": {
    "colab": {
     "base_uri": "https://localhost:8080/",
     "height": 296
    },
    "id": "I2VNGIGpyz42",
    "outputId": "d38d51c9-e4f4-4433-db52-befd06f0086f"
   },
   "outputs": [
    {
     "data": {
      "text/plain": [
       "<AxesSubplot:xlabel='TotalCharges', ylabel='Density'>"
      ]
     },
     "execution_count": 281,
     "metadata": {},
     "output_type": "execute_result"
    },
    {
     "data": {
      "image/png": "[encoded data removed]",
      "text/plain": [
       "<Figure size 432x288 with 1 Axes>"
      ]
     },
     "metadata": {
      "needs_background": "light"
     },
     "output_type": "display_data"
    }
   ],
   "source": [
    "sns.distplot(df['TotalCharges'])"
   ]
  },
  {
   "cell_type": "code",
   "execution_count": 282,
   "id": "a1b65P1J9kyl",
   "metadata": {
    "colab": {
     "base_uri": "https://localhost:8080/"
    },
    "id": "a1b65P1J9kyl",
    "outputId": "5ef020ae-359f-4010-896b-564fcc53a55b"
   },
   "outputs": [
    {
     "name": "stdout",
     "output_type": "stream",
     "text": [
      "Modus No Churn:  1397.475\n",
      "Modus Churn:  20.2\n"
     ]
    }
   ],
   "source": [
    "print('Modus No Churn: ', dftest1['TotalCharges'].mode().values[0])\n",
    "print('Modus Churn: ', dftest2['TotalCharges'].mode().values[0])"
   ]
  },
  {
   "cell_type": "code",
   "execution_count": 283,
   "id": "e343bf04",
   "metadata": {
    "colab": {
     "base_uri": "https://localhost:8080/",
     "height": 279
    },
    "id": "e343bf04",
    "outputId": "a03a773e-9810-470b-cafb-d22f4dae147b"
   },
   "outputs": [
    {
     "data": {
      "image/png": "[encoded data removed]",
      "text/plain": [
       "<Figure size 432x288 with 1 Axes>"
      ]
     },
     "metadata": {
      "needs_background": "light"
     },
     "output_type": "display_data"
    }
   ],
   "source": [
    "sns.barplot(x='Churn', y='TotalCharges', data=df, palette='flare');"
   ]
  },
  {
   "cell_type": "markdown",
   "id": "baad7d7e",
   "metadata": {
    "id": "baad7d7e"
   },
   "source": [
    "The total costs incurred by customers who are still subscribed are more than the total costs of customers who unsubscribe."
   ]
  },
  {
   "cell_type": "code",
   "execution_count": 284,
   "id": "95768117",
   "metadata": {
    "colab": {
     "base_uri": "https://localhost:8080/",
     "height": 269
    },
    "id": "95768117",
    "outputId": "b4edf3f3-32f6-499e-a960-62ea8244449c"
   },
   "outputs": [
    {
     "data": {
      "image/png": "[encoded data removed]",
      "text/plain": [
       "<Figure size 432x288 with 2 Axes>"
      ]
     },
     "metadata": {
      "needs_background": "light"
     },
     "output_type": "display_data"
    }
   ],
   "source": [
    "plt.figure(figsize = (6,4))\n",
    "sns.heatmap(df.corr(), annot=True);"
   ]
  },
  {
   "cell_type": "markdown",
   "id": "57da0e83",
   "metadata": {
    "id": "57da0e83"
   },
   "source": [
    "- There is a multicollinearity between tenure with Total Charges and Monthly Charges with Total Charges.\n",
    "- Then it must be removed one of the variables from the three variables above before modeling."
   ]
  },
  {
   "cell_type": "markdown",
   "id": "533a2796",
   "metadata": {
    "id": "533a2796"
   },
   "source": [
    "# Feature Enginerring"
   ]
  },
  {
   "cell_type": "code",
   "execution_count": 285,
   "id": "9dc9ccc8",
   "metadata": {
    "colab": {
     "base_uri": "https://localhost:8080/",
     "height": 386
    },
    "id": "9dc9ccc8",
    "outputId": "728fb61e-9b37-46fb-9811-d941e37600f6"
   },
   "outputs": [
    {
     "data": {
      "text/html": [
       "<div>\n",
       "<style scoped>\n",
       "    .dataframe tbody tr th:only-of-type {\n",
       "        vertical-align: middle;\n",
       "    }\n",
       "\n",
       "    .dataframe tbody tr th {\n",
       "        vertical-align: top;\n",
       "    }\n",
       "\n",
       "    .dataframe thead th {\n",
       "        text-align: right;\n",
       "    }\n",
       "</style>\n",
       "<table border=\"1\" class=\"dataframe\">\n",
       "  <thead>\n",
       "    <tr style=\"text-align: right;\">\n",
       "      <th></th>\n",
       "      <th>customerID</th>\n",
       "      <th>gender</th>\n",
       "      <th>SeniorCitizen</th>\n",
       "      <th>Partner</th>\n",
       "      <th>Dependents</th>\n",
       "      <th>tenure</th>\n",
       "      <th>PhoneService</th>\n",
       "      <th>MultipleLines</th>\n",
       "      <th>InternetService</th>\n",
       "      <th>OnlineSecurity</th>\n",
       "      <th>...</th>\n",
       "      <th>DeviceProtection</th>\n",
       "      <th>TechSupport</th>\n",
       "      <th>StreamingTV</th>\n",
       "      <th>StreamingMovies</th>\n",
       "      <th>Contract</th>\n",
       "      <th>PaperlessBilling</th>\n",
       "      <th>PaymentMethod</th>\n",
       "      <th>MonthlyCharges</th>\n",
       "      <th>TotalCharges</th>\n",
       "      <th>Churn</th>\n",
       "    </tr>\n",
       "  </thead>\n",
       "  <tbody>\n",
       "    <tr>\n",
       "      <th>0</th>\n",
       "      <td>7590-VHVEG</td>\n",
       "      <td>unknown</td>\n",
       "      <td>unknown</td>\n",
       "      <td>unknown</td>\n",
       "      <td>unknown</td>\n",
       "      <td>1</td>\n",
       "      <td>No</td>\n",
       "      <td>unknown</td>\n",
       "      <td>unknown</td>\n",
       "      <td>unknown</td>\n",
       "      <td>...</td>\n",
       "      <td>unknown</td>\n",
       "      <td>unknown</td>\n",
       "      <td>unknown</td>\n",
       "      <td>unknown</td>\n",
       "      <td>Month-to-month</td>\n",
       "      <td>Yes</td>\n",
       "      <td>Electronic check</td>\n",
       "      <td>29.85</td>\n",
       "      <td>29.85</td>\n",
       "      <td>No</td>\n",
       "    </tr>\n",
       "    <tr>\n",
       "      <th>1</th>\n",
       "      <td>5575-GNVDE</td>\n",
       "      <td>unknown</td>\n",
       "      <td>unknown</td>\n",
       "      <td>unknown</td>\n",
       "      <td>unknown</td>\n",
       "      <td>34</td>\n",
       "      <td>Yes</td>\n",
       "      <td>unknown</td>\n",
       "      <td>unknown</td>\n",
       "      <td>unknown</td>\n",
       "      <td>...</td>\n",
       "      <td>unknown</td>\n",
       "      <td>unknown</td>\n",
       "      <td>unknown</td>\n",
       "      <td>unknown</td>\n",
       "      <td>One year</td>\n",
       "      <td>No</td>\n",
       "      <td>Mailed check</td>\n",
       "      <td>56.95</td>\n",
       "      <td>1889.50</td>\n",
       "      <td>No</td>\n",
       "    </tr>\n",
       "    <tr>\n",
       "      <th>2</th>\n",
       "      <td>3668-QPYBK</td>\n",
       "      <td>unknown</td>\n",
       "      <td>unknown</td>\n",
       "      <td>unknown</td>\n",
       "      <td>unknown</td>\n",
       "      <td>2</td>\n",
       "      <td>Yes</td>\n",
       "      <td>unknown</td>\n",
       "      <td>unknown</td>\n",
       "      <td>unknown</td>\n",
       "      <td>...</td>\n",
       "      <td>unknown</td>\n",
       "      <td>unknown</td>\n",
       "      <td>unknown</td>\n",
       "      <td>unknown</td>\n",
       "      <td>Month-to-month</td>\n",
       "      <td>Yes</td>\n",
       "      <td>Mailed check</td>\n",
       "      <td>53.85</td>\n",
       "      <td>108.15</td>\n",
       "      <td>Yes</td>\n",
       "    </tr>\n",
       "    <tr>\n",
       "      <th>3</th>\n",
       "      <td>7795-CFOCW</td>\n",
       "      <td>unknown</td>\n",
       "      <td>unknown</td>\n",
       "      <td>unknown</td>\n",
       "      <td>unknown</td>\n",
       "      <td>45</td>\n",
       "      <td>No</td>\n",
       "      <td>unknown</td>\n",
       "      <td>unknown</td>\n",
       "      <td>unknown</td>\n",
       "      <td>...</td>\n",
       "      <td>unknown</td>\n",
       "      <td>unknown</td>\n",
       "      <td>unknown</td>\n",
       "      <td>unknown</td>\n",
       "      <td>One year</td>\n",
       "      <td>No</td>\n",
       "      <td>Bank transfer (automatic)</td>\n",
       "      <td>42.30</td>\n",
       "      <td>1840.75</td>\n",
       "      <td>No</td>\n",
       "    </tr>\n",
       "    <tr>\n",
       "      <th>4</th>\n",
       "      <td>9237-HQITU</td>\n",
       "      <td>unknown</td>\n",
       "      <td>unknown</td>\n",
       "      <td>unknown</td>\n",
       "      <td>unknown</td>\n",
       "      <td>2</td>\n",
       "      <td>Yes</td>\n",
       "      <td>unknown</td>\n",
       "      <td>unknown</td>\n",
       "      <td>unknown</td>\n",
       "      <td>...</td>\n",
       "      <td>unknown</td>\n",
       "      <td>unknown</td>\n",
       "      <td>unknown</td>\n",
       "      <td>unknown</td>\n",
       "      <td>Month-to-month</td>\n",
       "      <td>Yes</td>\n",
       "      <td>Electronic check</td>\n",
       "      <td>70.70</td>\n",
       "      <td>151.65</td>\n",
       "      <td>Yes</td>\n",
       "    </tr>\n",
       "  </tbody>\n",
       "</table>\n",
       "<p>5 rows × 21 columns</p>\n",
       "</div>"
      ],
      "text/plain": [
       "   customerID   gender SeniorCitizen  Partner Dependents  tenure PhoneService  \\\n",
       "0  7590-VHVEG  unknown       unknown  unknown    unknown       1           No   \n",
       "1  5575-GNVDE  unknown       unknown  unknown    unknown      34          Yes   \n",
       "2  3668-QPYBK  unknown       unknown  unknown    unknown       2          Yes   \n",
       "3  7795-CFOCW  unknown       unknown  unknown    unknown      45           No   \n",
       "4  9237-HQITU  unknown       unknown  unknown    unknown       2          Yes   \n",
       "\n",
       "  MultipleLines InternetService OnlineSecurity  ... DeviceProtection  \\\n",
       "0       unknown         unknown        unknown  ...          unknown   \n",
       "1       unknown         unknown        unknown  ...          unknown   \n",
       "2       unknown         unknown        unknown  ...          unknown   \n",
       "3       unknown         unknown        unknown  ...          unknown   \n",
       "4       unknown         unknown        unknown  ...          unknown   \n",
       "\n",
       "  TechSupport StreamingTV StreamingMovies        Contract PaperlessBilling  \\\n",
       "0     unknown     unknown         unknown  Month-to-month              Yes   \n",
       "1     unknown     unknown         unknown        One year               No   \n",
       "2     unknown     unknown         unknown  Month-to-month              Yes   \n",
       "3     unknown     unknown         unknown        One year               No   \n",
       "4     unknown     unknown         unknown  Month-to-month              Yes   \n",
       "\n",
       "               PaymentMethod MonthlyCharges  TotalCharges  Churn  \n",
       "0           Electronic check          29.85         29.85     No  \n",
       "1               Mailed check          56.95       1889.50     No  \n",
       "2               Mailed check          53.85        108.15    Yes  \n",
       "3  Bank transfer (automatic)          42.30       1840.75     No  \n",
       "4           Electronic check          70.70        151.65    Yes  \n",
       "\n",
       "[5 rows x 21 columns]"
      ]
     },
     "execution_count": 285,
     "metadata": {},
     "output_type": "execute_result"
    }
   ],
   "source": [
    "df.head()"
   ]
  },
  {
   "cell_type": "code",
   "execution_count": 286,
   "id": "4461a090",
   "metadata": {
    "id": "4461a090"
   },
   "outputs": [],
   "source": [
    "PaymentMethod = pd.get_dummies(df['PaymentMethod'], prefix='PaymentMethod', drop_first=False)\n",
    "Gender = pd.get_dummies(df['gender'], prefix='gender', drop_first=False)\n",
    "InternetService = pd.get_dummies(df['InternetService'], prefix='InternetService', drop_first=False)\n",
    "OnlineSecurity = pd.get_dummies(df['OnlineSecurity'], prefix='OnlineSecurity', drop_first=False)\n",
    "OnlineBackup = pd.get_dummies(df['OnlineBackup'], prefix='OnlineBackup', drop_first=False)\n",
    "MultipleLines = pd.get_dummies(df['MultipleLines'], prefix='MultipleLines', drop_first=False)\n",
    "DeviceProtection = pd.get_dummies(df['DeviceProtection'], prefix='DeviceProtection', drop_first=False)\n",
    "TechSupport = pd.get_dummies(df['TechSupport'], prefix='TechSupport', drop_first=False)\n",
    "StreamingTV = pd.get_dummies(df['StreamingTV'], prefix='StreamingTV', drop_first=False)\n",
    "StreamingMovies= pd.get_dummies(df['StreamingMovies'], prefix='StreamingMoviess', drop_first=False)\n",
    "Partner= pd.get_dummies(df['Partner'], prefix='Partner', drop_first=False)\n",
    "PhoneService = pd.get_dummies(df['PhoneService'], prefix='PhoneService', drop_first=False)\n",
    "PaperlessBilling = pd.get_dummies(df['PaperlessBilling'], prefix='PaperlessBilling', drop_first=False)\n",
    "Dependents = pd.get_dummies(df['Dependents'], prefix='Dependents', drop_first=False)\n",
    "SeniorCitizen = pd.get_dummies(df['SeniorCitizen'], prefix='SeniorCitizen', drop_first=False)"
   ]
  },
  {
   "cell_type": "code",
   "execution_count": 287,
   "id": "ef9ea43c",
   "metadata": {
    "id": "ef9ea43c"
   },
   "outputs": [],
   "source": [
    "df = pd.concat([df, PaymentMethod], axis=1)\n",
    "df = pd.concat([df, Gender], axis=1)\n",
    "df = pd.concat([df, InternetService], axis=1)\n",
    "df = pd.concat([df, OnlineSecurity], axis=1)\n",
    "df = pd.concat([df, MultipleLines ], axis=1)\n",
    "df = pd.concat([df, DeviceProtection], axis=1)\n",
    "df = pd.concat([df, TechSupport], axis=1)\n",
    "df = pd.concat([df, StreamingTV], axis=1)\n",
    "df = pd.concat([df, StreamingMovies], axis=1)\n",
    "df = pd.concat([df, Partner], axis=1)\n",
    "df = pd.concat([df, PhoneService], axis=1)\n",
    "df = pd.concat([df, PaperlessBilling], axis=1)\n",
    "df = pd.concat([df, Dependents ], axis=1)\n",
    "df = pd.concat([df, OnlineBackup ], axis=1)\n",
    "df = pd.concat([df, SeniorCitizen ], axis=1)"
   ]
  },
  {
   "cell_type": "code",
   "execution_count": 288,
   "id": "feac218c",
   "metadata": {
    "colab": {
     "base_uri": "https://localhost:8080/",
     "height": 421
    },
    "id": "feac218c",
    "outputId": "60be492f-c751-4d98-e8d9-407f3ca4458e"
   },
   "outputs": [
    {
     "data": {
      "text/html": [
       "<div>\n",
       "<style scoped>\n",
       "    .dataframe tbody tr th:only-of-type {\n",
       "        vertical-align: middle;\n",
       "    }\n",
       "\n",
       "    .dataframe tbody tr th {\n",
       "        vertical-align: top;\n",
       "    }\n",
       "\n",
       "    .dataframe thead th {\n",
       "        text-align: right;\n",
       "    }\n",
       "</style>\n",
       "<table border=\"1\" class=\"dataframe\">\n",
       "  <thead>\n",
       "    <tr style=\"text-align: right;\">\n",
       "      <th></th>\n",
       "      <th>customerID</th>\n",
       "      <th>tenure</th>\n",
       "      <th>Contract</th>\n",
       "      <th>MonthlyCharges</th>\n",
       "      <th>TotalCharges</th>\n",
       "      <th>Churn</th>\n",
       "      <th>PaymentMethod_Bank transfer (automatic)</th>\n",
       "      <th>PaymentMethod_Credit card (automatic)</th>\n",
       "      <th>PaymentMethod_Electronic check</th>\n",
       "      <th>PaymentMethod_Mailed check</th>\n",
       "      <th>...</th>\n",
       "      <th>Dependents_No</th>\n",
       "      <th>Dependents_Yes</th>\n",
       "      <th>Dependents_unknown</th>\n",
       "      <th>OnlineBackup_No</th>\n",
       "      <th>OnlineBackup_No internet service</th>\n",
       "      <th>OnlineBackup_Yes</th>\n",
       "      <th>OnlineBackup_unknown</th>\n",
       "      <th>SeniorCitizen_0.0</th>\n",
       "      <th>SeniorCitizen_1.0</th>\n",
       "      <th>SeniorCitizen_unknown</th>\n",
       "    </tr>\n",
       "  </thead>\n",
       "  <tbody>\n",
       "    <tr>\n",
       "      <th>0</th>\n",
       "      <td>7590-VHVEG</td>\n",
       "      <td>1</td>\n",
       "      <td>Month-to-month</td>\n",
       "      <td>29.85</td>\n",
       "      <td>29.85</td>\n",
       "      <td>No</td>\n",
       "      <td>0</td>\n",
       "      <td>0</td>\n",
       "      <td>1</td>\n",
       "      <td>0</td>\n",
       "      <td>...</td>\n",
       "      <td>0</td>\n",
       "      <td>0</td>\n",
       "      <td>1</td>\n",
       "      <td>0</td>\n",
       "      <td>0</td>\n",
       "      <td>0</td>\n",
       "      <td>1</td>\n",
       "      <td>0</td>\n",
       "      <td>0</td>\n",
       "      <td>1</td>\n",
       "    </tr>\n",
       "    <tr>\n",
       "      <th>1</th>\n",
       "      <td>5575-GNVDE</td>\n",
       "      <td>34</td>\n",
       "      <td>One year</td>\n",
       "      <td>56.95</td>\n",
       "      <td>1889.50</td>\n",
       "      <td>No</td>\n",
       "      <td>0</td>\n",
       "      <td>0</td>\n",
       "      <td>0</td>\n",
       "      <td>1</td>\n",
       "      <td>...</td>\n",
       "      <td>0</td>\n",
       "      <td>0</td>\n",
       "      <td>1</td>\n",
       "      <td>0</td>\n",
       "      <td>0</td>\n",
       "      <td>0</td>\n",
       "      <td>1</td>\n",
       "      <td>0</td>\n",
       "      <td>0</td>\n",
       "      <td>1</td>\n",
       "    </tr>\n",
       "    <tr>\n",
       "      <th>2</th>\n",
       "      <td>3668-QPYBK</td>\n",
       "      <td>2</td>\n",
       "      <td>Month-to-month</td>\n",
       "      <td>53.85</td>\n",
       "      <td>108.15</td>\n",
       "      <td>Yes</td>\n",
       "      <td>0</td>\n",
       "      <td>0</td>\n",
       "      <td>0</td>\n",
       "      <td>1</td>\n",
       "      <td>...</td>\n",
       "      <td>0</td>\n",
       "      <td>0</td>\n",
       "      <td>1</td>\n",
       "      <td>0</td>\n",
       "      <td>0</td>\n",
       "      <td>0</td>\n",
       "      <td>1</td>\n",
       "      <td>0</td>\n",
       "      <td>0</td>\n",
       "      <td>1</td>\n",
       "    </tr>\n",
       "    <tr>\n",
       "      <th>3</th>\n",
       "      <td>7795-CFOCW</td>\n",
       "      <td>45</td>\n",
       "      <td>One year</td>\n",
       "      <td>42.30</td>\n",
       "      <td>1840.75</td>\n",
       "      <td>No</td>\n",
       "      <td>1</td>\n",
       "      <td>0</td>\n",
       "      <td>0</td>\n",
       "      <td>0</td>\n",
       "      <td>...</td>\n",
       "      <td>0</td>\n",
       "      <td>0</td>\n",
       "      <td>1</td>\n",
       "      <td>0</td>\n",
       "      <td>0</td>\n",
       "      <td>0</td>\n",
       "      <td>1</td>\n",
       "      <td>0</td>\n",
       "      <td>0</td>\n",
       "      <td>1</td>\n",
       "    </tr>\n",
       "    <tr>\n",
       "      <th>4</th>\n",
       "      <td>9237-HQITU</td>\n",
       "      <td>2</td>\n",
       "      <td>Month-to-month</td>\n",
       "      <td>70.70</td>\n",
       "      <td>151.65</td>\n",
       "      <td>Yes</td>\n",
       "      <td>0</td>\n",
       "      <td>0</td>\n",
       "      <td>1</td>\n",
       "      <td>0</td>\n",
       "      <td>...</td>\n",
       "      <td>0</td>\n",
       "      <td>0</td>\n",
       "      <td>1</td>\n",
       "      <td>0</td>\n",
       "      <td>0</td>\n",
       "      <td>0</td>\n",
       "      <td>1</td>\n",
       "      <td>0</td>\n",
       "      <td>0</td>\n",
       "      <td>1</td>\n",
       "    </tr>\n",
       "  </tbody>\n",
       "</table>\n",
       "<p>5 rows × 58 columns</p>\n",
       "</div>"
      ],
      "text/plain": [
       "   customerID  tenure        Contract  MonthlyCharges  TotalCharges Churn  \\\n",
       "0  7590-VHVEG       1  Month-to-month           29.85         29.85    No   \n",
       "1  5575-GNVDE      34        One year           56.95       1889.50    No   \n",
       "2  3668-QPYBK       2  Month-to-month           53.85        108.15   Yes   \n",
       "3  7795-CFOCW      45        One year           42.30       1840.75    No   \n",
       "4  9237-HQITU       2  Month-to-month           70.70        151.65   Yes   \n",
       "\n",
       "   PaymentMethod_Bank transfer (automatic)  \\\n",
       "0                                        0   \n",
       "1                                        0   \n",
       "2                                        0   \n",
       "3                                        1   \n",
       "4                                        0   \n",
       "\n",
       "   PaymentMethod_Credit card (automatic)  PaymentMethod_Electronic check  \\\n",
       "0                                      0                               1   \n",
       "1                                      0                               0   \n",
       "2                                      0                               0   \n",
       "3                                      0                               0   \n",
       "4                                      0                               1   \n",
       "\n",
       "   PaymentMethod_Mailed check  ...  Dependents_No  Dependents_Yes  \\\n",
       "0                           0  ...              0               0   \n",
       "1                           1  ...              0               0   \n",
       "2                           1  ...              0               0   \n",
       "3                           0  ...              0               0   \n",
       "4                           0  ...              0               0   \n",
       "\n",
       "   Dependents_unknown  OnlineBackup_No  OnlineBackup_No internet service  \\\n",
       "0                   1                0                                 0   \n",
       "1                   1                0                                 0   \n",
       "2                   1                0                                 0   \n",
       "3                   1                0                                 0   \n",
       "4                   1                0                                 0   \n",
       "\n",
       "   OnlineBackup_Yes  OnlineBackup_unknown  SeniorCitizen_0.0  \\\n",
       "0                 0                     1                  0   \n",
       "1                 0                     1                  0   \n",
       "2                 0                     1                  0   \n",
       "3                 0                     1                  0   \n",
       "4                 0                     1                  0   \n",
       "\n",
       "   SeniorCitizen_1.0  SeniorCitizen_unknown  \n",
       "0                  0                      1  \n",
       "1                  0                      1  \n",
       "2                  0                      1  \n",
       "3                  0                      1  \n",
       "4                  0                      1  \n",
       "\n",
       "[5 rows x 58 columns]"
      ]
     },
     "execution_count": 288,
     "metadata": {},
     "output_type": "execute_result"
    }
   ],
   "source": [
    "df.drop(['PaymentMethod'], axis=1, inplace=True)\n",
    "df.drop(['gender'], axis=1, inplace=True)\n",
    "df.drop(['InternetService'], axis=1, inplace=True)\n",
    "df.drop(['OnlineSecurity'], axis=1, inplace=True)\n",
    "df.drop(['MultipleLines'], axis=1, inplace=True)\n",
    "df.drop(['DeviceProtection'], axis=1, inplace=True)\n",
    "df.drop(['TechSupport'], axis=1, inplace=True)\n",
    "df.drop(['StreamingTV'], axis=1, inplace=True)\n",
    "df.drop(['StreamingMovies'], axis=1, inplace=True)\n",
    "df.drop(['Partner'], axis=1, inplace=True)\n",
    "df.drop(['PhoneService'], axis=1, inplace=True)\n",
    "df.drop(['PaperlessBilling'], axis=1, inplace=True)\n",
    "df.drop(['Dependents'], axis=1, inplace=True)\n",
    "df.drop(['OnlineBackup'], axis=1, inplace=True)\n",
    "df.drop(['SeniorCitizen'], axis=1, inplace=True)\n",
    "df.head()"
   ]
  },
  {
   "cell_type": "code",
   "execution_count": 289,
   "id": "cbad0b48",
   "metadata": {
    "colab": {
     "base_uri": "https://localhost:8080/"
    },
    "id": "cbad0b48",
    "outputId": "43a42614-c411-41b9-8865-50c5c1a9fe07"
   },
   "outputs": [
    {
     "data": {
      "text/plain": [
       "Month-to-month    3875\n",
       "Two year          1695\n",
       "One year          1473\n",
       "Name: Contract, dtype: int64"
      ]
     },
     "execution_count": 289,
     "metadata": {},
     "output_type": "execute_result"
    }
   ],
   "source": [
    "df['Contract'].value_counts()"
   ]
  },
  {
   "cell_type": "code",
   "execution_count": 290,
   "id": "0002b140",
   "metadata": {
    "id": "0002b140"
   },
   "outputs": [],
   "source": [
    "df['Contract'] = df['Contract'].map({\"Month-to-month\":0, \"Two year\":1, \"One year\":2})"
   ]
  },
  {
   "cell_type": "code",
   "execution_count": 291,
   "id": "3207558d",
   "metadata": {
    "colab": {
     "base_uri": "https://localhost:8080/"
    },
    "id": "3207558d",
    "outputId": "b6a2d672-5134-454a-ff89-17337f70c48e"
   },
   "outputs": [
    {
     "data": {
      "text/plain": [
       "0    3875\n",
       "1    1695\n",
       "2    1473\n",
       "Name: Contract, dtype: int64"
      ]
     },
     "execution_count": 291,
     "metadata": {},
     "output_type": "execute_result"
    }
   ],
   "source": [
    "df['Contract'].value_counts()"
   ]
  },
  {
   "cell_type": "code",
   "execution_count": 292,
   "id": "2ceccf4d",
   "metadata": {
    "id": "2ceccf4d"
   },
   "outputs": [],
   "source": [
    "df['Churn'] = df['Churn'].map({'No':0, 'Yes':1})"
   ]
  },
  {
   "cell_type": "code",
   "execution_count": 293,
   "id": "2f53fd04",
   "metadata": {
    "colab": {
     "base_uri": "https://localhost:8080/",
     "height": 296
    },
    "id": "2f53fd04",
    "outputId": "d66e5d42-a202-49fa-ac58-998df18ca8a4"
   },
   "outputs": [
    {
     "data": {
      "text/plain": [
       "<AxesSubplot:xlabel='tenure', ylabel='Density'>"
      ]
     },
     "execution_count": 293,
     "metadata": {},
     "output_type": "execute_result"
    },
    {
     "data": {
      "image/png": "[encoded data removed]",
      "text/plain": [
       "<Figure size 432x288 with 1 Axes>"
      ]
     },
     "metadata": {
      "needs_background": "light"
     },
     "output_type": "display_data"
    }
   ],
   "source": [
    "sns.distplot(df['tenure'])"
   ]
  },
  {
   "cell_type": "code",
   "execution_count": 294,
   "id": "e8086ff9",
   "metadata": {
    "colab": {
     "base_uri": "https://localhost:8080/",
     "height": 296
    },
    "id": "e8086ff9",
    "outputId": "c1dbb703-4e2e-446a-c35c-600ae351b74e"
   },
   "outputs": [
    {
     "data": {
      "text/plain": [
       "<AxesSubplot:xlabel='MonthlyCharges', ylabel='Density'>"
      ]
     },
     "execution_count": 294,
     "metadata": {},
     "output_type": "execute_result"
    },
    {
     "data": {
      "image/png": "[encoded data removed]",
      "text/plain": [
       "<Figure size 432x288 with 1 Axes>"
      ]
     },
     "metadata": {
      "needs_background": "light"
     },
     "output_type": "display_data"
    }
   ],
   "source": [
    "sns.distplot(df['MonthlyCharges'])"
   ]
  },
  {
   "cell_type": "code",
   "execution_count": 295,
   "id": "b192e28f",
   "metadata": {
    "colab": {
     "base_uri": "https://localhost:8080/",
     "height": 296
    },
    "id": "b192e28f",
    "outputId": "67c238e1-a402-442a-fa51-cbce42652860"
   },
   "outputs": [
    {
     "data": {
      "text/plain": [
       "<AxesSubplot:xlabel='TotalCharges', ylabel='Density'>"
      ]
     },
     "execution_count": 295,
     "metadata": {},
     "output_type": "execute_result"
    },
    {
     "data": {
      "image/png": "[encoded data removed]",
      "text/plain": [
       "<Figure size 432x288 with 1 Axes>"
      ]
     },
     "metadata": {
      "needs_background": "light"
     },
     "output_type": "display_data"
    }
   ],
   "source": [
    "sns.distplot(df['TotalCharges'])"
   ]
  },
  {
   "cell_type": "code",
   "execution_count": 296,
   "id": "c2241f22",
   "metadata": {
    "colab": {
     "base_uri": "https://localhost:8080/",
     "height": 421
    },
    "id": "c2241f22",
    "outputId": "a7e67305-6c83-41a8-8e42-17e17b5e5744"
   },
   "outputs": [
    {
     "data": {
      "text/html": [
       "<div>\n",
       "<style scoped>\n",
       "    .dataframe tbody tr th:only-of-type {\n",
       "        vertical-align: middle;\n",
       "    }\n",
       "\n",
       "    .dataframe tbody tr th {\n",
       "        vertical-align: top;\n",
       "    }\n",
       "\n",
       "    .dataframe thead th {\n",
       "        text-align: right;\n",
       "    }\n",
       "</style>\n",
       "<table border=\"1\" class=\"dataframe\">\n",
       "  <thead>\n",
       "    <tr style=\"text-align: right;\">\n",
       "      <th></th>\n",
       "      <th>customerID</th>\n",
       "      <th>tenure</th>\n",
       "      <th>Contract</th>\n",
       "      <th>MonthlyCharges</th>\n",
       "      <th>TotalCharges</th>\n",
       "      <th>Churn</th>\n",
       "      <th>PaymentMethod_Bank transfer (automatic)</th>\n",
       "      <th>PaymentMethod_Credit card (automatic)</th>\n",
       "      <th>PaymentMethod_Electronic check</th>\n",
       "      <th>PaymentMethod_Mailed check</th>\n",
       "      <th>...</th>\n",
       "      <th>Dependents_No</th>\n",
       "      <th>Dependents_Yes</th>\n",
       "      <th>Dependents_unknown</th>\n",
       "      <th>OnlineBackup_No</th>\n",
       "      <th>OnlineBackup_No internet service</th>\n",
       "      <th>OnlineBackup_Yes</th>\n",
       "      <th>OnlineBackup_unknown</th>\n",
       "      <th>SeniorCitizen_0.0</th>\n",
       "      <th>SeniorCitizen_1.0</th>\n",
       "      <th>SeniorCitizen_unknown</th>\n",
       "    </tr>\n",
       "  </thead>\n",
       "  <tbody>\n",
       "    <tr>\n",
       "      <th>0</th>\n",
       "      <td>7590-VHVEG</td>\n",
       "      <td>-1.277445</td>\n",
       "      <td>-0.821752</td>\n",
       "      <td>-1.160323</td>\n",
       "      <td>-0.994242</td>\n",
       "      <td>0</td>\n",
       "      <td>0</td>\n",
       "      <td>0</td>\n",
       "      <td>1</td>\n",
       "      <td>0</td>\n",
       "      <td>...</td>\n",
       "      <td>0</td>\n",
       "      <td>0</td>\n",
       "      <td>1</td>\n",
       "      <td>0</td>\n",
       "      <td>0</td>\n",
       "      <td>0</td>\n",
       "      <td>1</td>\n",
       "      <td>0</td>\n",
       "      <td>0</td>\n",
       "      <td>1</td>\n",
       "    </tr>\n",
       "    <tr>\n",
       "      <th>1</th>\n",
       "      <td>5575-GNVDE</td>\n",
       "      <td>0.066327</td>\n",
       "      <td>1.672366</td>\n",
       "      <td>-0.259629</td>\n",
       "      <td>-0.173244</td>\n",
       "      <td>0</td>\n",
       "      <td>0</td>\n",
       "      <td>0</td>\n",
       "      <td>0</td>\n",
       "      <td>1</td>\n",
       "      <td>...</td>\n",
       "      <td>0</td>\n",
       "      <td>0</td>\n",
       "      <td>1</td>\n",
       "      <td>0</td>\n",
       "      <td>0</td>\n",
       "      <td>0</td>\n",
       "      <td>1</td>\n",
       "      <td>0</td>\n",
       "      <td>0</td>\n",
       "      <td>1</td>\n",
       "    </tr>\n",
       "    <tr>\n",
       "      <th>2</th>\n",
       "      <td>3668-QPYBK</td>\n",
       "      <td>-1.236724</td>\n",
       "      <td>-0.821752</td>\n",
       "      <td>-0.362660</td>\n",
       "      <td>-0.959674</td>\n",
       "      <td>1</td>\n",
       "      <td>0</td>\n",
       "      <td>0</td>\n",
       "      <td>0</td>\n",
       "      <td>1</td>\n",
       "      <td>...</td>\n",
       "      <td>0</td>\n",
       "      <td>0</td>\n",
       "      <td>1</td>\n",
       "      <td>0</td>\n",
       "      <td>0</td>\n",
       "      <td>0</td>\n",
       "      <td>1</td>\n",
       "      <td>0</td>\n",
       "      <td>0</td>\n",
       "      <td>1</td>\n",
       "    </tr>\n",
       "    <tr>\n",
       "      <th>3</th>\n",
       "      <td>7795-CFOCW</td>\n",
       "      <td>0.514251</td>\n",
       "      <td>1.672366</td>\n",
       "      <td>-0.746535</td>\n",
       "      <td>-0.194766</td>\n",
       "      <td>0</td>\n",
       "      <td>1</td>\n",
       "      <td>0</td>\n",
       "      <td>0</td>\n",
       "      <td>0</td>\n",
       "      <td>...</td>\n",
       "      <td>0</td>\n",
       "      <td>0</td>\n",
       "      <td>1</td>\n",
       "      <td>0</td>\n",
       "      <td>0</td>\n",
       "      <td>0</td>\n",
       "      <td>1</td>\n",
       "      <td>0</td>\n",
       "      <td>0</td>\n",
       "      <td>1</td>\n",
       "    </tr>\n",
       "    <tr>\n",
       "      <th>4</th>\n",
       "      <td>9237-HQITU</td>\n",
       "      <td>-1.236724</td>\n",
       "      <td>-0.821752</td>\n",
       "      <td>0.197365</td>\n",
       "      <td>-0.940470</td>\n",
       "      <td>1</td>\n",
       "      <td>0</td>\n",
       "      <td>0</td>\n",
       "      <td>1</td>\n",
       "      <td>0</td>\n",
       "      <td>...</td>\n",
       "      <td>0</td>\n",
       "      <td>0</td>\n",
       "      <td>1</td>\n",
       "      <td>0</td>\n",
       "      <td>0</td>\n",
       "      <td>0</td>\n",
       "      <td>1</td>\n",
       "      <td>0</td>\n",
       "      <td>0</td>\n",
       "      <td>1</td>\n",
       "    </tr>\n",
       "  </tbody>\n",
       "</table>\n",
       "<p>5 rows × 58 columns</p>\n",
       "</div>"
      ],
      "text/plain": [
       "   customerID    tenure  Contract  MonthlyCharges  TotalCharges  Churn  \\\n",
       "0  7590-VHVEG -1.277445 -0.821752       -1.160323     -0.994242      0   \n",
       "1  5575-GNVDE  0.066327  1.672366       -0.259629     -0.173244      0   \n",
       "2  3668-QPYBK -1.236724 -0.821752       -0.362660     -0.959674      1   \n",
       "3  7795-CFOCW  0.514251  1.672366       -0.746535     -0.194766      0   \n",
       "4  9237-HQITU -1.236724 -0.821752        0.197365     -0.940470      1   \n",
       "\n",
       "   PaymentMethod_Bank transfer (automatic)  \\\n",
       "0                                        0   \n",
       "1                                        0   \n",
       "2                                        0   \n",
       "3                                        1   \n",
       "4                                        0   \n",
       "\n",
       "   PaymentMethod_Credit card (automatic)  PaymentMethod_Electronic check  \\\n",
       "0                                      0                               1   \n",
       "1                                      0                               0   \n",
       "2                                      0                               0   \n",
       "3                                      0                               0   \n",
       "4                                      0                               1   \n",
       "\n",
       "   PaymentMethod_Mailed check  ...  Dependents_No  Dependents_Yes  \\\n",
       "0                           0  ...              0               0   \n",
       "1                           1  ...              0               0   \n",
       "2                           1  ...              0               0   \n",
       "3                           0  ...              0               0   \n",
       "4                           0  ...              0               0   \n",
       "\n",
       "   Dependents_unknown  OnlineBackup_No  OnlineBackup_No internet service  \\\n",
       "0                   1                0                                 0   \n",
       "1                   1                0                                 0   \n",
       "2                   1                0                                 0   \n",
       "3                   1                0                                 0   \n",
       "4                   1                0                                 0   \n",
       "\n",
       "   OnlineBackup_Yes  OnlineBackup_unknown  SeniorCitizen_0.0  \\\n",
       "0                 0                     1                  0   \n",
       "1                 0                     1                  0   \n",
       "2                 0                     1                  0   \n",
       "3                 0                     1                  0   \n",
       "4                 0                     1                  0   \n",
       "\n",
       "   SeniorCitizen_1.0  SeniorCitizen_unknown  \n",
       "0                  0                      1  \n",
       "1                  0                      1  \n",
       "2                  0                      1  \n",
       "3                  0                      1  \n",
       "4                  0                      1  \n",
       "\n",
       "[5 rows x 58 columns]"
      ]
     },
     "execution_count": 296,
     "metadata": {},
     "output_type": "execute_result"
    }
   ],
   "source": [
    "scaler = StandardScaler()\n",
    "df['tenure'] = scaler.fit_transform(df[['tenure']])\n",
    "df['MonthlyCharges'] = scaler.fit_transform(df[['MonthlyCharges']])\n",
    "df['TotalCharges'] = scaler.fit_transform(df[['TotalCharges']])\n",
    "df['Contract'] = scaler.fit_transform(df[['Contract']])\n",
    "df.head()"
   ]
  },
  {
   "cell_type": "markdown",
   "id": "c992ba62",
   "metadata": {
    "id": "c992ba62"
   },
   "source": [
    "# Preprocessing Modeling"
   ]
  },
  {
   "cell_type": "markdown",
   "id": "0599dbdb",
   "metadata": {
    "id": "0599dbdb"
   },
   "source": [
    "- Feature Selection"
   ]
  },
  {
   "cell_type": "code",
   "execution_count": 297,
   "id": "763658d2",
   "metadata": {
    "id": "763658d2"
   },
   "outputs": [],
   "source": [
    "df.drop('customerID', axis=1, inplace = True) #identifier\n",
    "df.drop('TotalCharges', axis=1, inplace = True) #multicolinier"
   ]
  },
  {
   "cell_type": "markdown",
   "id": "ed785ed5",
   "metadata": {
    "id": "ed785ed5"
   },
   "source": [
    "- Feature Importance"
   ]
  },
  {
   "cell_type": "code",
   "execution_count": 298,
   "id": "f6b5b30f",
   "metadata": {
    "id": "f6b5b30f"
   },
   "outputs": [],
   "source": [
    "X = df.drop(['Churn'], axis=1)\n",
    "y = df['Churn']"
   ]
  },
  {
   "cell_type": "code",
   "execution_count": 299,
   "id": "d85286e8",
   "metadata": {
    "colab": {
     "base_uri": "https://localhost:8080/",
     "height": 265
    },
    "id": "d85286e8",
    "outputId": "ba10ece6-aa67-42f4-fb71-f382828c493c"
   },
   "outputs": [
    {
     "data": {
      "image/png": "[encoded data removed]",
      "text/plain": [
       "<Figure size 432x288 with 1 Axes>"
      ]
     },
     "metadata": {
      "needs_background": "light"
     },
     "output_type": "display_data"
    }
   ],
   "source": [
    "model = ExtraTreesClassifier()\n",
    "model.fit(X,y)\n",
    "\n",
    "feat_importances = pd.Series(model.feature_importances_, index=X.columns)\n",
    "feat_importances.nlargest(23).plot(kind = 'barh')\n",
    "plt.show()"
   ]
  },
  {
   "cell_type": "markdown",
   "id": "352f55d1",
   "metadata": {
    "id": "352f55d1"
   },
   "source": [
    "- Train Test Split"
   ]
  },
  {
   "cell_type": "code",
   "execution_count": 300,
   "id": "c2e7cb2e",
   "metadata": {
    "id": "c2e7cb2e"
   },
   "outputs": [],
   "source": [
    "X_train, X_test, y_train, y_test = train_test_split(X, y, train_size = 0.8, random_state = 42)"
   ]
  },
  {
   "cell_type": "markdown",
   "id": "4e42ce9e",
   "metadata": {
    "id": "4e42ce9e"
   },
   "source": [
    "# Modeling"
   ]
  },
  {
   "cell_type": "code",
   "execution_count": 301,
   "id": "5854598d",
   "metadata": {
    "id": "5854598d"
   },
   "outputs": [],
   "source": [
    "model = LogisticRegression()"
   ]
  },
  {
   "cell_type": "code",
   "execution_count": 302,
   "id": "eb824c1e",
   "metadata": {
    "colab": {
     "base_uri": "https://localhost:8080/"
    },
    "id": "eb824c1e",
    "outputId": "80732cac-0480-42fd-b67c-ef391d483aa8"
   },
   "outputs": [
    {
     "data": {
      "text/html": [
       "<style>#sk-container-id-6 {color: black;background-color: white;}#sk-container-id-6 pre{padding: 0;}#sk-container-id-6 div.sk-toggleable {background-color: white;}#sk-container-id-6 label.sk-toggleable__label {cursor: pointer;display: block;width: 100%;margin-bottom: 0;padding: 0.3em;box-sizing: border-box;text-align: center;}#sk-container-id-6 label.sk-toggleable__label-arrow:before {content: \"▸\";float: left;margin-right: 0.25em;color: #696969;}#sk-container-id-6 label.sk-toggleable__label-arrow:hover:before {color: black;}#sk-container-id-6 div.sk-estimator:hover label.sk-toggleable__label-arrow:before {color: black;}#sk-container-id-6 div.sk-toggleable__content {max-height: 0;max-width: 0;overflow: hidden;text-align: left;background-color: #f0f8ff;}#sk-container-id-6 div.sk-toggleable__content pre {margin: 0.2em;color: black;border-radius: 0.25em;background-color: #f0f8ff;}#sk-container-id-6 input.sk-toggleable__control:checked~div.sk-toggleable__content {max-height: 200px;max-width: 100%;overflow: auto;}#sk-container-id-6 input.sk-toggleable__control:checked~label.sk-toggleable__label-arrow:before {content: \"▾\";}#sk-container-id-6 div.sk-estimator input.sk-toggleable__control:checked~label.sk-toggleable__label {background-color: #d4ebff;}#sk-container-id-6 div.sk-label input.sk-toggleable__control:checked~label.sk-toggleable__label {background-color: #d4ebff;}#sk-container-id-6 input.sk-hidden--visually {border: 0;clip: rect(1px 1px 1px 1px);clip: rect(1px, 1px, 1px, 1px);height: 1px;margin: -1px;overflow: hidden;padding: 0;position: absolute;width: 1px;}#sk-container-id-6 div.sk-estimator {font-family: monospace;background-color: #f0f8ff;border: 1px dotted black;border-radius: 0.25em;box-sizing: border-box;margin-bottom: 0.5em;}#sk-container-id-6 div.sk-estimator:hover {background-color: #d4ebff;}#sk-container-id-6 div.sk-parallel-item::after {content: \"\";width: 100%;border-bottom: 1px solid gray;flex-grow: 1;}#sk-container-id-6 div.sk-label:hover label.sk-toggleable__label {background-color: #d4ebff;}#sk-container-id-6 div.sk-serial::before {content: \"\";position: absolute;border-left: 1px solid gray;box-sizing: border-box;top: 0;bottom: 0;left: 50%;z-index: 0;}#sk-container-id-6 div.sk-serial {display: flex;flex-direction: column;align-items: center;background-color: white;padding-right: 0.2em;padding-left: 0.2em;position: relative;}#sk-container-id-6 div.sk-item {position: relative;z-index: 1;}#sk-container-id-6 div.sk-parallel {display: flex;align-items: stretch;justify-content: center;background-color: white;position: relative;}#sk-container-id-6 div.sk-item::before, #sk-container-id-6 div.sk-parallel-item::before {content: \"\";position: absolute;border-left: 1px solid gray;box-sizing: border-box;top: 0;bottom: 0;left: 50%;z-index: -1;}#sk-container-id-6 div.sk-parallel-item {display: flex;flex-direction: column;z-index: 1;position: relative;background-color: white;}#sk-container-id-6 div.sk-parallel-item:first-child::after {align-self: flex-end;width: 50%;}#sk-container-id-6 div.sk-parallel-item:last-child::after {align-self: flex-start;width: 50%;}#sk-container-id-6 div.sk-parallel-item:only-child::after {width: 0;}#sk-container-id-6 div.sk-dashed-wrapped {border: 1px dashed gray;margin: 0 0.4em 0.5em 0.4em;box-sizing: border-box;padding-bottom: 0.4em;background-color: white;}#sk-container-id-6 div.sk-label label {font-family: monospace;font-weight: bold;display: inline-block;line-height: 1.2em;}#sk-container-id-6 div.sk-label-container {text-align: center;}#sk-container-id-6 div.sk-container {/* jupyter's `normalize.less` sets `[hidden] { display: none; }` but bootstrap.min.css set `[hidden] { display: none !important; }` so we also need the `!important` here to be able to override the default hidden behavior on the sphinx rendered scikit-learn.org. See: https://github.com/scikit-learn/scikit-learn/issues/21755 */display: inline-block !important;position: relative;}#sk-container-id-6 div.sk-text-repr-fallback {display: none;}</style><div id=\"sk-container-id-6\" class=\"sk-top-container\"><div class=\"sk-text-repr-fallback\"><pre>LogisticRegression()</pre><b>In a Jupyter environment, please rerun this cell to show the HTML representation or trust the notebook. <br />On GitHub, the HTML representation is unable to render, please try loading this page with nbviewer.org.</b></div><div class=\"sk-container\" hidden><div class=\"sk-item\"><div class=\"sk-estimator sk-toggleable\"><input class=\"sk-toggleable__control sk-hidden--visually\" id=\"sk-estimator-id-6\" type=\"checkbox\" checked><label for=\"sk-estimator-id-6\" class=\"sk-toggleable__label sk-toggleable__label-arrow\">LogisticRegression</label><div class=\"sk-toggleable__content\"><pre>LogisticRegression()</pre></div></div></div></div></div>"
      ],
      "text/plain": [
       "LogisticRegression()"
      ]
     },
     "execution_count": 302,
     "metadata": {},
     "output_type": "execute_result"
    }
   ],
   "source": [
    "model.fit(X_train, y_train)"
   ]
  },
  {
   "cell_type": "code",
   "execution_count": 303,
   "id": "801e6faf",
   "metadata": {
    "id": "801e6faf"
   },
   "outputs": [],
   "source": [
    "y_pred = model.predict(X_test)"
   ]
  },
  {
   "cell_type": "markdown",
   "id": "0ae88dc4",
   "metadata": {
    "id": "0ae88dc4"
   },
   "source": [
    "# Evaluate Model"
   ]
  },
  {
   "cell_type": "code",
   "execution_count": 304,
   "id": "9edcf382",
   "metadata": {
    "colab": {
     "base_uri": "https://localhost:8080/",
     "height": 507
    },
    "id": "9edcf382",
    "outputId": "11a22b18-9c75-4845-ce70-f8118ccdfde6"
   },
   "outputs": [
    {
     "name": "stdout",
     "output_type": "stream",
     "text": [
      "              precision    recall  f1-score   support\n",
      "\n",
      "   not_Churn       0.86      0.91      0.88      1036\n",
      "       Churn       0.70      0.59      0.64       373\n",
      "\n",
      "    accuracy                           0.82      1409\n",
      "   macro avg       0.78      0.75      0.76      1409\n",
      "weighted avg       0.82      0.82      0.82      1409\n",
      "\n"
     ]
    },
    {
     "data": {
      "image/png": "[encoded data removed]",
      "text/plain": [
       "<Figure size 576x360 with 2 Axes>"
      ]
     },
     "metadata": {
      "needs_background": "light"
     },
     "output_type": "display_data"
    }
   ],
   "source": [
    "cm_model = confusion_matrix(y_test, y_pred)\n",
    "\n",
    "labels = ['not_Churn', 'Churn']\n",
    "\n",
    "print(classification_report(y_test, y_pred, target_names = labels))\n",
    "f, ax = plt.subplots(figsize=(8,5))\n",
    "sns.heatmap(cm_model, annot=True, fmt=\".0f\", ax=ax, cmap = 'Blues')\n",
    "\n",
    "ax.xaxis.set_ticklabels(labels)\n",
    "ax.yaxis.set_ticklabels(labels)\n",
    "\n",
    "plt.title('Logistic Regression TRAIN 80%')\n",
    "plt.xlabel('PREDICTED')\n",
    "plt.ylabel('ACTUAL')\n",
    "plt.show()\n"
   ]
  },
  {
   "cell_type": "markdown",
   "id": "8c167f0c",
   "metadata": {
    "id": "8c167f0c"
   },
   "source": [
    "# Is the model overfit or underfit"
   ]
  },
  {
   "cell_type": "code",
   "execution_count": 305,
   "id": "0a3aa085",
   "metadata": {
    "id": "0a3aa085"
   },
   "outputs": [],
   "source": [
    "y_pred_train = model.predict(X_train)\n",
    "y_pred_test = model.predict(X_test)"
   ]
  },
  {
   "cell_type": "code",
   "execution_count": 306,
   "id": "41c0b85c",
   "metadata": {
    "colab": {
     "base_uri": "https://localhost:8080/"
    },
    "id": "41c0b85c",
    "outputId": "e932df39-75a2-4e17-f4b7-3df63df6f48b"
   },
   "outputs": [
    {
     "name": "stdout",
     "output_type": "stream",
     "text": [
      "0.7999645012424565\n"
     ]
    }
   ],
   "source": [
    "# Accuracy score of training data\n",
    "print(accuracy_score(y_train, y_pred_train))"
   ]
  },
  {
   "cell_type": "code",
   "execution_count": 307,
   "id": "2c13847c",
   "metadata": {
    "colab": {
     "base_uri": "https://localhost:8080/"
    },
    "id": "2c13847c",
    "outputId": "4e3ce778-f116-4826-c635-17946c0989db"
   },
   "outputs": [
    {
     "name": "stdout",
     "output_type": "stream",
     "text": [
      "0.8239886444286728\n"
     ]
    }
   ],
   "source": [
    "# Accuracy score of testing data\n",
    "print(accuracy_score(y_test, y_pred_test))"
   ]
  },
  {
   "cell_type": "markdown",
   "id": "e1ef2842",
   "metadata": {
    "id": "e1ef2842"
   },
   "source": [
    "# AUC / ROC"
   ]
  },
  {
   "cell_type": "code",
   "execution_count": 308,
   "id": "9ff3bd4f",
   "metadata": {
    "id": "9ff3bd4f"
   },
   "outputs": [],
   "source": [
    "y_pred_train = model.predict(X_train)\n",
    "y_pred_test = model.predict(X_test)\n",
    "y_proba_train = model.predict_proba(X_train)[:,1]\n",
    "y_proba_test = model.predict_proba(X_test)[:,1]\n",
    "cm_train = confusion_matrix(y_train,y_pred_train)\n",
    "cm_test = confusion_matrix(y_test,y_pred_test)"
   ]
  },
  {
   "cell_type": "code",
   "execution_count": 309,
   "id": "a1ec906b",
   "metadata": {
    "id": "a1ec906b"
   },
   "outputs": [],
   "source": [
    "fpr_train, tpr_train, threshold_train = roc_curve(y_train, y_proba_train)\n",
    "roc_auc_train = auc(fpr_train, tpr_train)\n",
    "fpr_test, tpr_test, threshold_test = roc_curve(y_test, y_proba_test)\n",
    "roc_auc_test = auc(fpr_test, tpr_test)"
   ]
  },
  {
   "cell_type": "code",
   "execution_count": 310,
   "id": "4b469171",
   "metadata": {
    "id": "4b469171"
   },
   "outputs": [],
   "source": [
    "# True Positive\n",
    "tp_train, tp_test = cm_train[1][1], cm_test[1][1]\n",
    "# True Negative\n",
    "tn_train, tn_test = cm_train[0][0], cm_test[0][0]\n",
    "# False Positive\n",
    "fp_train, fp_test = cm_train[1][0], cm_test[1][0]\n",
    "# False Negative\n",
    "fn_train, fn_test = cm_train[0][1], cm_test[0][1]"
   ]
  },
  {
   "cell_type": "code",
   "execution_count": 311,
   "id": "6f273929",
   "metadata": {
    "colab": {
     "base_uri": "https://localhost:8080/",
     "height": 716
    },
    "id": "6f273929",
    "outputId": "003cc775-599f-4c27-e8dc-81e3a9c71d67"
   },
   "outputs": [
    {
     "name": "stdout",
     "output_type": "stream",
     "text": [
      "\n",
      "Train Confusion Matrix\n",
      "[[3729  409]\n",
      " [ 718  778]]\n",
      "Test Confusion Matrix\n",
      "[[942  94]\n",
      " [154 219]]\n",
      "\n",
      "Area Under Curve\n",
      "AUC train & test        : 83.53% & 85.99%\n",
      "\n",
      "Confusion Matrix Evaluation\n",
      "Accuracy train & test   : 80.00% & 82.40%\n",
      "Recall train & test     : 52.01% & 58.71%\n",
      "Specificity train & test: 90.12% & 90.93%\n",
      "Precision train & test  : 65.54% & 69.97%\n",
      "F1 Score train & test   : 57.99% & 63.85%\n",
      "Log Loss train & test   : 6.909 & 6.0793\n"
     ]
    },
    {
     "data": {
      "image/png": "[encoded data removed]",
      "text/plain": [
       "<Figure size 504x432 with 1 Axes>"
      ]
     },
     "metadata": {
      "needs_background": "light"
     },
     "output_type": "display_data"
    }
   ],
   "source": [
    "# Overall, how often is the classifier correct?\n",
    "accuracy_train, accuracy_test = ((tp_train + tn_train) / (tp_train + tn_train + fp_train + fn_train)), (\n",
    "            (tp_test + tn_test) / (tp_test + tn_test + fp_test + fn_test))\n",
    "# When it's actually yes, how often does it predict yes?\n",
    "recall_train, recall_test = (tp_train / (tp_train + fp_train)), (tp_test / (tp_test + fp_test))\n",
    "# When it's actually no, how often does it predict no?\n",
    "specificity_train, specificity_test = (tn_train / (tn_train + fn_train)), (tn_test / (tn_test + fn_test))\n",
    "# When it predicts yes, how often is it correct?\n",
    "precision_train, precision_test = (tp_train / (tp_train + fn_train)), (tp_test / (tp_test + fn_test))\n",
    "# F1 Score\n",
    "f1_score_train, f1_score_test = (2 * (precision_train * recall_train) / (precision_train + recall_train)), (\n",
    "            2 * (precision_test * recall_test) / (precision_test + recall_test))\n",
    "\n",
    "# Print all the evaluation metrics\n",
    "print('\\nTrain Confusion Matrix')\n",
    "print(cm_train)\n",
    "print('Test Confusion Matrix')\n",
    "print(cm_test)\n",
    "print('\\nArea Under Curve')\n",
    "print('AUC train & test        : %.2f%%' % (roc_auc_train * 100), '&', '%.2f%%' % (roc_auc_test * 100))\n",
    "print('\\nConfusion Matrix Evaluation')\n",
    "print('Accuracy train & test   : %.2f%%' % (accuracy_train * 100), '&', '%.2f%%' % (accuracy_test * 100))\n",
    "print('Recall train & test     : %.2f%%' % (recall_train * 100), '&', '%.2f%%' % (recall_test * 100))\n",
    "print('Specificity train & test: %.2f%%' % (specificity_train * 100), '&', '%.2f%%' % (specificity_test * 100))\n",
    "print('Precision train & test  : %.2f%%' % (precision_train * 100), '&', '%.2f%%' % (precision_test * 100))\n",
    "print('F1 Score train & test   : %.2f%%' % (f1_score_train * 100), '&', '%.2f%%' % (f1_score_test * 100))\n",
    "print('Log Loss train & test   :', round(log_loss(y_train, y_pred_train), 4), '&',\n",
    "          round(log_loss(y_test, y_pred_test), 4))\n",
    "\n",
    "#create plot of ROC_AUC\n",
    "plt.figure(figsize=(7, 6))\n",
    "plt.title('Receiver Operating Characteristic')\n",
    "plt.plot(fpr_train, tpr_train, 'b', label='Train = %0.2f' % roc_auc_train)\n",
    "plt.plot(fpr_test, tpr_test, 'g', label='Test  = %0.2f' % roc_auc_test)\n",
    "plt.legend(loc='lower right')\n",
    "plt.plot([0, 1], [0, 1], 'r--')\n",
    "plt.xlim([-0.05, 1.05])\n",
    "plt.ylim([-0.05, 1.05])\n",
    "plt.ylabel('True Positive Rate')\n",
    "plt.xlabel('False Positive Rate')\n",
    "plt.show()"
   ]
  },
  {
   "cell_type": "markdown",
   "id": "d30f4aae",
   "metadata": {
    "id": "d30f4aae"
   },
   "source": [
    "# Building a Model With Cross Validation"
   ]
  },
  {
   "cell_type": "code",
   "execution_count": 312,
   "id": "98bc1a31",
   "metadata": {
    "id": "98bc1a31"
   },
   "outputs": [],
   "source": [
    "regressor = LogisticRegression()"
   ]
  },
  {
   "cell_type": "code",
   "execution_count": 313,
   "id": "75770d44",
   "metadata": {
    "colab": {
     "base_uri": "https://localhost:8080/"
    },
    "id": "75770d44",
    "outputId": "2fc63b2d-f865-42ca-91e3-a9f1b5ee0a2d"
   },
   "outputs": [
    {
     "data": {
      "text/plain": [
       "array([0.79392971, 0.80031949, 0.80244941])"
      ]
     },
     "execution_count": 313,
     "metadata": {},
     "output_type": "execute_result"
    }
   ],
   "source": [
    "scores = cross_val_score(regressor, X_train, y_train, scoring = 'accuracy', cv=3)\n",
    "scores"
   ]
  },
  {
   "cell_type": "markdown",
   "id": "85bd3bc0",
   "metadata": {
    "id": "85bd3bc0"
   },
   "source": [
    "# Hyperparameter Tuning in Logistic Regression"
   ]
  },
  {
   "cell_type": "code",
   "execution_count": 314,
   "id": "6946c211",
   "metadata": {
    "id": "6946c211"
   },
   "outputs": [],
   "source": [
    "regressor.get_params()\n",
    "parameters = {\"penalty\": ['l1', 'l2', 'elasticnet', 'none'],\n",
    "              \"solver\": ['newton-cg', 'lbfgs', 'liblinear', 'sag', 'saga'],\n",
    "              \"n_jobs\": [None, -1],\n",
    "              \"max_iter\": [10, 100, 1000]\n",
    "             }"
   ]
  },
  {
   "cell_type": "code",
   "execution_count": 315,
   "id": "fa4a50ac",
   "metadata": {
    "id": "fa4a50ac"
   },
   "outputs": [],
   "source": [
    "grid = GridSearchCV(estimator = regressor, param_grid = parameters, cv=3)"
   ]
  },
  {
   "cell_type": "code",
   "execution_count": 316,
   "id": "0e2862d0",
   "metadata": {
    "id": "0e2862d0"
   },
   "outputs": [],
   "source": [
    "best_model = grid.fit(X_train, y_train)"
   ]
  },
  {
   "cell_type": "code",
   "execution_count": 317,
   "id": "d0f38176",
   "metadata": {
    "colab": {
     "base_uri": "https://localhost:8080/"
    },
    "id": "d0f38176",
    "outputId": "e460b4c2-bab9-4a51-c419-7af14a0a2b3a"
   },
   "outputs": [
    {
     "data": {
      "text/plain": [
       "{'max_iter': 10, 'n_jobs': None, 'penalty': 'l2', 'solver': 'saga'}"
      ]
     },
     "execution_count": 317,
     "metadata": {},
     "output_type": "execute_result"
    }
   ],
   "source": [
    "best_model.best_params_"
   ]
  },
  {
   "cell_type": "code",
   "execution_count": 318,
   "id": "30d359d9",
   "metadata": {
    "id": "30d359d9"
   },
   "outputs": [],
   "source": [
    "regres_new = LogisticRegression(max_iter= 10, n_jobs= None, penalty = 'l2', solver= 'saga')"
   ]
  },
  {
   "cell_type": "code",
   "execution_count": 319,
   "id": "824fd266",
   "metadata": {
    "id": "824fd266"
   },
   "outputs": [],
   "source": [
    "model_new = regres_new.fit(X_train, y_train)"
   ]
  },
  {
   "cell_type": "code",
   "execution_count": 320,
   "id": "bff9a816",
   "metadata": {
    "id": "bff9a816"
   },
   "outputs": [],
   "source": [
    "y_pred_new = regres_new.predict(X_test)"
   ]
  },
  {
   "cell_type": "markdown",
   "id": "8c140f3c",
   "metadata": {
    "id": "8c140f3c"
   },
   "source": [
    "# Evaluate Model"
   ]
  },
  {
   "cell_type": "code",
   "execution_count": 211,
   "id": "d81d8cd2",
   "metadata": {
    "colab": {
     "base_uri": "https://localhost:8080/",
     "height": 507
    },
    "id": "d81d8cd2",
    "outputId": "6f6768c9-8497-47c3-8eea-567dd67b2e50"
   },
   "outputs": [
    {
     "name": "stdout",
     "output_type": "stream",
     "text": [
      "              precision    recall  f1-score   support\n",
      "\n",
      "   not_Churn       0.86      0.91      0.88      1036\n",
      "       Churn       0.70      0.59      0.64       373\n",
      "\n",
      "    accuracy                           0.82      1409\n",
      "   macro avg       0.78      0.75      0.76      1409\n",
      "weighted avg       0.82      0.82      0.82      1409\n",
      "\n"
     ]
    },
    {
     "data": {
      "image/png": "[encoded data removed]",
      "text/plain": [
       "<Figure size 576x360 with 2 Axes>"
      ]
     },
     "metadata": {
      "needs_background": "light"
     },
     "output_type": "display_data"
    }
   ],
   "source": [
    "cm_model = confusion_matrix(y_test, y_pred_new)\n",
    "\n",
    "labels = ['not_Churn', 'Churn']\n",
    "\n",
    "print(classification_report(y_test, y_pred, target_names = labels))\n",
    "f, ax = plt.subplots(figsize=(8,5))\n",
    "sns.heatmap(cm_model, annot=True, fmt=\".0f\", ax=ax, cmap = 'Blues')\n",
    "\n",
    "ax.xaxis.set_ticklabels(labels)\n",
    "ax.yaxis.set_ticklabels(labels)\n",
    "\n",
    "plt.title('Logistic Regression TRAIN 80%')\n",
    "plt.xlabel('PREDICTED')\n",
    "plt.ylabel('ACTUAL')\n",
    "plt.show()"
   ]
  },
  {
   "cell_type": "markdown",
   "id": "a03158c0",
   "metadata": {},
   "source": [
    "# Oversampling with SMOTE"
   ]
  },
  {
   "cell_type": "code",
   "execution_count": 214,
   "id": "5a9435a3",
   "metadata": {},
   "outputs": [
    {
     "data": {
      "text/html": [
       "<style>#sk-container-id-4 {color: black;background-color: white;}#sk-container-id-4 pre{padding: 0;}#sk-container-id-4 div.sk-toggleable {background-color: white;}#sk-container-id-4 label.sk-toggleable__label {cursor: pointer;display: block;width: 100%;margin-bottom: 0;padding: 0.3em;box-sizing: border-box;text-align: center;}#sk-container-id-4 label.sk-toggleable__label-arrow:before {content: \"▸\";float: left;margin-right: 0.25em;color: #696969;}#sk-container-id-4 label.sk-toggleable__label-arrow:hover:before {color: black;}#sk-container-id-4 div.sk-estimator:hover label.sk-toggleable__label-arrow:before {color: black;}#sk-container-id-4 div.sk-toggleable__content {max-height: 0;max-width: 0;overflow: hidden;text-align: left;background-color: #f0f8ff;}#sk-container-id-4 div.sk-toggleable__content pre {margin: 0.2em;color: black;border-radius: 0.25em;background-color: #f0f8ff;}#sk-container-id-4 input.sk-toggleable__control:checked~div.sk-toggleable__content {max-height: 200px;max-width: 100%;overflow: auto;}#sk-container-id-4 input.sk-toggleable__control:checked~label.sk-toggleable__label-arrow:before {content: \"▾\";}#sk-container-id-4 div.sk-estimator input.sk-toggleable__control:checked~label.sk-toggleable__label {background-color: #d4ebff;}#sk-container-id-4 div.sk-label input.sk-toggleable__control:checked~label.sk-toggleable__label {background-color: #d4ebff;}#sk-container-id-4 input.sk-hidden--visually {border: 0;clip: rect(1px 1px 1px 1px);clip: rect(1px, 1px, 1px, 1px);height: 1px;margin: -1px;overflow: hidden;padding: 0;position: absolute;width: 1px;}#sk-container-id-4 div.sk-estimator {font-family: monospace;background-color: #f0f8ff;border: 1px dotted black;border-radius: 0.25em;box-sizing: border-box;margin-bottom: 0.5em;}#sk-container-id-4 div.sk-estimator:hover {background-color: #d4ebff;}#sk-container-id-4 div.sk-parallel-item::after {content: \"\";width: 100%;border-bottom: 1px solid gray;flex-grow: 1;}#sk-container-id-4 div.sk-label:hover label.sk-toggleable__label {background-color: #d4ebff;}#sk-container-id-4 div.sk-serial::before {content: \"\";position: absolute;border-left: 1px solid gray;box-sizing: border-box;top: 0;bottom: 0;left: 50%;z-index: 0;}#sk-container-id-4 div.sk-serial {display: flex;flex-direction: column;align-items: center;background-color: white;padding-right: 0.2em;padding-left: 0.2em;position: relative;}#sk-container-id-4 div.sk-item {position: relative;z-index: 1;}#sk-container-id-4 div.sk-parallel {display: flex;align-items: stretch;justify-content: center;background-color: white;position: relative;}#sk-container-id-4 div.sk-item::before, #sk-container-id-4 div.sk-parallel-item::before {content: \"\";position: absolute;border-left: 1px solid gray;box-sizing: border-box;top: 0;bottom: 0;left: 50%;z-index: -1;}#sk-container-id-4 div.sk-parallel-item {display: flex;flex-direction: column;z-index: 1;position: relative;background-color: white;}#sk-container-id-4 div.sk-parallel-item:first-child::after {align-self: flex-end;width: 50%;}#sk-container-id-4 div.sk-parallel-item:last-child::after {align-self: flex-start;width: 50%;}#sk-container-id-4 div.sk-parallel-item:only-child::after {width: 0;}#sk-container-id-4 div.sk-dashed-wrapped {border: 1px dashed gray;margin: 0 0.4em 0.5em 0.4em;box-sizing: border-box;padding-bottom: 0.4em;background-color: white;}#sk-container-id-4 div.sk-label label {font-family: monospace;font-weight: bold;display: inline-block;line-height: 1.2em;}#sk-container-id-4 div.sk-label-container {text-align: center;}#sk-container-id-4 div.sk-container {/* jupyter's `normalize.less` sets `[hidden] { display: none; }` but bootstrap.min.css set `[hidden] { display: none !important; }` so we also need the `!important` here to be able to override the default hidden behavior on the sphinx rendered scikit-learn.org. See: https://github.com/scikit-learn/scikit-learn/issues/21755 */display: inline-block !important;position: relative;}#sk-container-id-4 div.sk-text-repr-fallback {display: none;}</style><div id=\"sk-container-id-4\" class=\"sk-top-container\"><div class=\"sk-text-repr-fallback\"><pre>LogisticRegression()</pre><b>In a Jupyter environment, please rerun this cell to show the HTML representation or trust the notebook. <br />On GitHub, the HTML representation is unable to render, please try loading this page with nbviewer.org.</b></div><div class=\"sk-container\" hidden><div class=\"sk-item\"><div class=\"sk-estimator sk-toggleable\"><input class=\"sk-toggleable__control sk-hidden--visually\" id=\"sk-estimator-id-4\" type=\"checkbox\" checked><label for=\"sk-estimator-id-4\" class=\"sk-toggleable__label sk-toggleable__label-arrow\">LogisticRegression</label><div class=\"sk-toggleable__content\"><pre>LogisticRegression()</pre></div></div></div></div></div>"
      ],
      "text/plain": [
       "LogisticRegression()"
      ]
     },
     "execution_count": 214,
     "metadata": {},
     "output_type": "execute_result"
    }
   ],
   "source": [
    "# Oversampling with SMOTE\n",
    "\n",
    "X_train_sm, y_train_sm = SMOTE(random_state = False).fit_resample(X_train, y_train)\n",
    "\n",
    "# Model oversampled\n",
    "\n",
    "model_sm = LogisticRegression()\n",
    "model_sm.fit(X_train_sm, y_train_sm)"
   ]
  },
  {
   "cell_type": "code",
   "execution_count": 215,
   "id": "6bd4b61f",
   "metadata": {},
   "outputs": [],
   "source": [
    "# Predic using Logistic Regression oversampled\n",
    "\n",
    "y_pred_sm = model_sm.predict(X_test)"
   ]
  },
  {
   "cell_type": "code",
   "execution_count": 216,
   "id": "23a4a7c3",
   "metadata": {},
   "outputs": [],
   "source": [
    "# Evaluate Model"
   ]
  },
  {
   "cell_type": "code",
   "execution_count": 217,
   "id": "9dfa9a46",
   "metadata": {},
   "outputs": [
    {
     "name": "stdout",
     "output_type": "stream",
     "text": [
      "              precision    recall  f1-score   support\n",
      "\n",
      "   not_Churn       0.86      0.91      0.88      1036\n",
      "       Churn       0.70      0.59      0.64       373\n",
      "\n",
      "    accuracy                           0.82      1409\n",
      "   macro avg       0.78      0.75      0.76      1409\n",
      "weighted avg       0.82      0.82      0.82      1409\n",
      "\n"
     ]
    },
    {
     "data": {
      "image/png": "[encoded data removed]",
      "text/plain": [
       "<Figure size 576x360 with 2 Axes>"
      ]
     },
     "metadata": {
      "needs_background": "light"
     },
     "output_type": "display_data"
    }
   ],
   "source": [
    "cm_model = confusion_matrix(y_test, y_pred_sm)\n",
    "\n",
    "labels = ['not_Churn', 'Churn']\n",
    "\n",
    "print(classification_report(y_test, y_pred, target_names = labels))\n",
    "f, ax = plt.subplots(figsize=(8,5))\n",
    "sns.heatmap(cm_model, annot=True, fmt=\".0f\", ax=ax, cmap = 'Blues')\n",
    "\n",
    "ax.xaxis.set_ticklabels(labels)\n",
    "ax.yaxis.set_ticklabels(labels)\n",
    "\n",
    "plt.title('Logistic Regression TRAIN 80%')\n",
    "plt.xlabel('PREDICTED')\n",
    "plt.ylabel('ACTUAL')\n",
    "plt.show()"
   ]
  },
  {
   "cell_type": "markdown",
   "id": "b36b3dcc",
   "metadata": {},
   "source": [
    "It can be seen that after an evaluation using oversampling with SMOTE, the accuracy value increases, indicating this is good and the model is fit"
   ]
  },
  {
   "cell_type": "code",
   "execution_count": 218,
   "id": "fcf40225",
   "metadata": {},
   "outputs": [],
   "source": [
    "# Is this model fit or overfit"
   ]
  },
  {
   "cell_type": "code",
   "execution_count": 222,
   "id": "38ad6434",
   "metadata": {},
   "outputs": [
    {
     "name": "stdout",
     "output_type": "stream",
     "text": [
      "0.8239886444286728\n"
     ]
    }
   ],
   "source": [
    "# Accuracy Before Evaluate\n",
    "print(accuracy_score(y_test,y_pred))"
   ]
  },
  {
   "cell_type": "code",
   "execution_count": 223,
   "id": "0ef01708",
   "metadata": {},
   "outputs": [
    {
     "name": "stdout",
     "output_type": "stream",
     "text": [
      "0.8239886444286728\n"
     ]
    }
   ],
   "source": [
    "# Accuracy After Evaluate\n",
    "print(accuracy_score(y_test,y_pred_new))"
   ]
  },
  {
   "cell_type": "markdown",
   "id": "XqFpwgxt832P",
   "metadata": {
    "id": "XqFpwgxt832P"
   },
   "source": [
    "# Result\n",
    "- No Churn customers there are as much as 73.46%, while churn customers there are as much as 26.54%.\n",
    "- Most churn customers are female who are 11.44%. Male churn customers are as many as 11.39% and 3.71% are churn customers that their gender is not known. While the remaining 73.46% are no churn customers.\n",
    "- From churn customers, the majority are not seniors, which is as much as 17%. 5.84% other are senior citizens and 3.71% are churn customers who are unknown. While the remaining 73.45% are no churn customers.\n",
    "- Most of the churn customers are customers who use Fiber Optics internet services are 15.75%. 5.69% DSL users, 3.71% unknown, and 1.39% did not have internet services. While the remaining 73.46% are no churn customers.\n",
    "- Most churn customers are customers who use electronic transactions (paperless billing) that are 19.88% while 6.66% were not paperless billing users. The remaining 73.46% are no churn customers.\n",
    "- 18.83% of customers are churn customers and have no dependents. While 4% of them have dependents and 3.71% are not known. While the remaining 73.47% are no churn customers.\n",
    "- Most churn customers are customers who don't have a partner, that is as much as 14.65% of all numbers customers. 8.18% have a partner and 3.71% are not known. While the remaining 73.46% are no churn customers.\n",
    "- 24.12% of customers are churn customers and have phone services. while 2.41% were not have phone service. The remaining 73.46% are no churn customers.\n",
    "- Most churn customers are customers who have multiple lines, that are 10.46% of customers. 10.28% did not have multiple lines, 3.71% of it is unknown, and 2.09% did not have phone services. While the remaining 73.47% are no churn customers.\n",
    "- Most churn customers are customers who do not have online security, which is 17.88% customers. 3.56% have online security, 3.71% of them are unknown, and 1.39% do not have internet services. The remaining 73.46% are no churn customers.\n",
    "- Most churn customers are customers who do not have online backup, which is 15.15% customers. 6.29% have online backup, 3.71% of them are unknown, and 1.39% do not have internet services. The remaining 73.46% are no churn customers.\n",
    "- Most churn customers are customers who have no device protection, which is 14.81% of customers. 6.63% of it have device protection, 3.71% of them are unknown, and 1.39% do not have internet services. The remaining 73.46% are no churn customers.\n",
    "- Most churn customers are customers who don't have technical support services, that is 17.54% of customers. 3.9% of them have a technical support, 3.71% of them are unknown, and 1.39% do not have internet services. The remaining 73.46% are no churn customers.\n",
    "- Most churn customers are customers who do not use Streaming TV services, which is 11.39% of customers. 10.05% of it uses streaming TV services, 3.71% of which are unknown, and 1.39% have no internet services. The remaining 73.46% are no churn customers.\n",
    "- Most churn customers are customers who do not use Streaming Movies service, which is 11.54% of customers. 9.9% of it using Streaming Movies service, 3.71% of it is unknown, and 1.39% have no internet services. The remaining 73.46% are no churn customers.\n",
    "- Most churn customers are customers who have monthly contracts, that are 23.50% of customers. 2.36% of it had a one-year contract, and 0.68% had a two-year contract. The remaining 73.46% are no churn customers.\n",
    "- 15.21% of customers are churn customers and use Elektronic Check payments method. 4.37% of them used Mailed check, 3.66% of them use bank transfers, and 3.29% are churn customers and use credit cards. The remaining 73.46% are no churn customers.\n",
    "- Most churn customers are customers whose tenure is only 1 month with an average is 18 months.\n",
    "- Most churn customers on average are customers who spend 74.4 per month.\n",
    "- The average total costs incurred by no churn customers is 1531.8 where it is smaller than a no churn customers.\n",
    "- After creating modeling with logistics regression, then the evaluation is made using the AUC/ROC. It can be concluded that the resulting model does not overfit because the AUC train is obtained by 83.53% and the test earned by 85.99%, where the difference is no more than 0.05."
   ]
  },
  {
   "cell_type": "markdown",
   "id": "qpfWM3qhHDYe",
   "metadata": {
    "id": "qpfWM3qhHDYe"
   },
   "source": [
    "# Recommendation\n",
    "- Recommendation for “Customer Churn\" segment:\n",
    "Focus on increasing customer purchases, such as create marketing campaigns to upsell those currently subscribed to streaming movies and TV services on our other internet services. \n",
    "- Recommendation for “Device Protection\" segment:\n",
    "Improve the Device Protection service in order to prevent a large number of customer churn who use that service.\n",
    "- Recommendation for “Streaming TV\" segment:\n",
    "Improve the Streaming TV service in order to prevent a large number of customer churn who use that service.\n",
    "- Recommendation for “Streaming Movies\" segment:\n",
    "Improve the Streaming Movies service in order to prevent a large number of customer churn who use that service.\n",
    "- Recommendation for “Internet Service\" segment:\n",
    "Improve the internet service with fiber optic in order to prevent a large number of customer churn who use the fiber optic.\n",
    "- Recommendation for “Payment Method\" segment:\n",
    "Maintain service performance with Mailed Check payment method to prevent customers using that payment method from churn and improve service with Electronic Check payment method so that customers who churn do not get more and more\n",
    "- Recommendation for \"Contract\" segment:\n",
    "Reduce the use of month-to-month contracts, because many customers unsubscribe with month-to-month contracts\n",
    "- Recommendation for \"Technical Support\" segment:\n",
    "Have to improve the Technical support service in order to prevent a large number of customer churn who use that service.\n",
    "- Recommendation for \"Partner\" segment:\n",
    "Have to increase the number of partners in the company in order to reduce unsubscribed customers\n",
    "- Recommendation for \"Phone Service\" segment:\n",
    "must improve phone service in order to reduce unsubscribed customers\n",
    "- Recommendation for \"Multiple line Service\" segment:\n",
    "must improve Multiple line service in order to reduce unsubscribed customers"
   ]
  },
  {
   "cell_type": "code",
   "execution_count": null,
   "id": "18c945b8",
   "metadata": {},
   "outputs": [],
   "source": []
  }
 ],
 "metadata": {
  "colab": {
   "collapsed_sections": [],
   "provenance": []
  },
  "kernelspec": {
   "display_name": "Python 3 (ipykernel)",
   "language": "python",
   "name": "python3"
  },
  "language_info": {
   "codemirror_mode": {
    "name": "ipython",
    "version": 3
   },
   "file_extension": ".py",
   "mimetype": "text/x-python",
   "name": "python",
   "nbconvert_exporter": "python",
   "pygments_lexer": "ipython3",
   "version": "3.9.12"
  }
 },
 "nbformat": 4,
 "nbformat_minor": 5
}
